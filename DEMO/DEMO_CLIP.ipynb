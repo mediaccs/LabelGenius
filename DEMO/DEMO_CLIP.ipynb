{
 "cells": [
  {
   "cell_type": "code",
   "execution_count": 1,
   "id": "filled-sterling",
   "metadata": {
    "id": "16de8cc8-fe8c-4dec-a58a-68fa050b7d3a",
    "outputId": "ac71a964-ee35-4310-e960-fac87d81d30c"
   },
   "outputs": [
    {
     "name": "stdout",
     "output_type": "stream",
     "text": [
      "Using device: cpu\n"
     ]
    }
   ],
   "source": [
    "# Import the functions\n",
    "import pandas as pd\n",
    "from LabelGenius import classification_CLIP_0_shot, finetune_CLIP, classification_CLIP_finetuned, auto_verification"
   ]
  },
  {
   "cell_type": "markdown",
   "id": "ignored-apache",
   "metadata": {
    "id": "ecdea590-13db-4d21-b105-9948c1ff3b95"
   },
   "source": [
    "Demo 1: Single-Category Classification using N24News Dataset\n",
    "-------------------------------------------------------------\n",
    "\n",
    "This demo shows how to classify a single news article into one of 24 category\n",
    "using the N24News dataset. Each article in the dataset includes both textual\n",
    "and visual information.\n",
    "\n",
    "Source: https://aclanthology.org/2022.lrec-1.729/\n",
    "\n",
    "\n",
    "Each article contains the following fields:\n",
    "- 'section': Ground truth label (one of 24 category)\n",
    "- 'headline': Title of the article\n",
    "- 'abstract': Short summary of the article\n",
    "- 'article': Full text content\n",
    "- 'article_url': Link to the original article\n",
    "- 'image': Encoded image or metadata (optional)\n",
    "- 'caption': Image caption\n",
    "- 'image_id': Unique image identifier\n",
    "- 'image_path': Path to the associated image (e.g., 'N24News/imgs_200_sample1/12345.jpg')\n",
    "- 'article_id': Unique article identifier\n",
    "\n",
    "Image file: Multimodal_image\n",
    "\n",
    "Example category (See prompt_D1 for the complete category):\n",
    "------------------------\n",
    "1. Health\n",
    "2. Science\n",
    "3. Television\n",
    "...\n",
    "24. Global Business\n",
    "\n",
    "Reference:\n",
    "----------\n",
    "Wang, Z., Shan, X., Zhang, X., & Yang, J. (2022).\n",
    "N24News: A New Dataset for Multimodal News Classification.\n",
    "In *Proceedings of the Thirteenth Language Resources and Evaluation Conference* (pp. 6768–6775). LREC.\n"
   ]
  },
  {
   "cell_type": "markdown",
   "id": "pressing-commander",
   "metadata": {
    "id": "708f68b3-8d41-4647-8d86-eb282e65a53f"
   },
   "source": [
    "### Demo 1a: Single-Category Text Classification\n",
    "\n",
    "**Datasets:**\n",
    "- `D1_1.csv`: Used for initial labeling and fine-tuning.\n",
    "- `D1_2.csv`: Used for testing the fine-tuned model's performance.\n"
   ]
  },
  {
   "cell_type": "code",
   "execution_count": 2,
   "id": "32ffb6c5-73dc-45ee-bb67-e620f23daa7e",
   "metadata": {},
   "outputs": [],
   "source": [
    "# Define the descriptive prompt for each category\n",
    "prompt_D1_CLIP = [\n",
    "    \"a news article about health, including medical news, public health issues, fitness, mental health, and wellness.\",\n",
    "    \"a news article about science, covering scientific discoveries, research studies, space exploration, and innovations.\",\n",
    "    \"a news article about television, featuring TV shows, series reviews, industry news, and streaming platforms.\",\n",
    "    \"a news article about travel, focusing on tourism, destinations, travel guides, airlines, and vacation trends.\",\n",
    "    \"a news article about movies, including film industry news, reviews, box office reports, and upcoming releases.\",\n",
    "    \"a news article about dance, covering ballet, contemporary styles, street dance, performances, and dance competitions.\",\n",
    "    \"a news article about real estate, highlighting housing market trends, property sales, architecture, and urban planning.\",\n",
    "    \"a news article about the economy, featuring macroeconomics, inflation, stock markets, GDP growth, and financial policies.\",\n",
    "    \"a news article about sports, covering professional sports, competitions, athlete news, and game Demo_results.\",\n",
    "    \"a news article about theater, featuring plays, Broadway shows, live performances, and stage production reviews.\",\n",
    "    \"a news article about opinion pieces, including editorials, analysis, and expert commentaries.\",\n",
    "    \"a news article about music, covering albums, artists, concerts, festivals, and industry trends.\",\n",
    "    \"a news article about books, featuring literature, bestsellers, author interviews, and book reviews.\",\n",
    "    \"a news article about art and design, showcasing fine arts, visual arts, museums, exhibitions, and design trends.\",\n",
    "    \"a news article about style, including fashion trends, beauty, personal style, and cultural aesthetics.\",\n",
    "    \"a news article about media, covering journalism, publishing, digital media, and mass communication.\",\n",
    "    \"a news article about food, featuring restaurants, cooking, recipes, culinary trends, and food culture.\",\n",
    "    \"a news article about well-being, focusing on lifestyle, personal development, mental well-being, and self-care.\",\n",
    "    \"a news article about fashion, covering clothing, designers, fashion weeks, and industry insights.\",\n",
    "    \"a news article about technology, featuring AI, gadgets, software, cybersecurity, and tech innovations.\",\n",
    "    \"a news article about personal finance, including investing, budgeting, and financial planning.\",\n",
    "    \"a news article about education, featuring schools, universities, learning methods, and education policies.\",\n",
    "    \"a news article about automobiles, covering car industry news, electric vehicles, reviews, and trends.\",\n",
    "    \"a news article about global business, featuring international trade, corporations, mergers, and global markets.\"\n",
    "]\n",
    "\n",
    "# Define the list of 24 category labels\n",
    "category_D1_CLIP = [\n",
    "    \"1\", \"2\", \"3\", \"4\", \"5\", \"6\",\n",
    "    \"7\", \"8\", \"9\", \"10\", \"11\", \"12\",\n",
    "    \"13\", \"14\", \"15\", \"16\", \"17\", \"18\",\n",
    "    \"19\", \"20\", \"21\", \"22\", \"23\", \"24\"\n",
    "]"
   ]
  },
  {
   "cell_type": "markdown",
   "id": "utility-voltage",
   "metadata": {},
   "source": [
    "## CLIP: local labeling"
   ]
  },
  {
   "cell_type": "code",
   "execution_count": 3,
   "id": "opponent-corruption",
   "metadata": {
    "id": "fc615e82-c25c-43d4-893e-e246d254ab21",
    "outputId": "b7f49318-538a-4f27-88f2-efe8d1a67d78"
   },
   "outputs": [
    {
     "name": "stdout",
     "output_type": "stream",
     "text": [
      "Loaded 200 records\n"
     ]
    },
    {
     "name": "stderr",
     "output_type": "stream",
     "text": [
      "Predicting: 100%|██████████| 200/200 [00:03<00:00, 51.50it/s]\n"
     ]
    }
   ],
   "source": [
    "D1a_CLIP_inital_labeling = classification_CLIP_0_shot(\n",
    "    text_path=\"Demo_data/D1_1.csv\",\n",
    "    mode=\"text\",\n",
    "    prompt=prompt_D1_CLIP,\n",
    "    text_column=[\"headline\", \"abstract\"],\n",
    "    predict_column=\"D1a_CLIP_inital_labeling\",\n",
    ")\n",
    "\n",
    "\n",
    "D1a_CLIP_inital_labeling.to_csv(\"Demo_result/D1a_CLIP_inital_labeling.csv\", index=False)"
   ]
  },
  {
   "cell_type": "code",
   "execution_count": 4,
   "id": "cathedral-control",
   "metadata": {
    "id": "a37c5284-3059-4aeb-80df-435bda86b510",
    "outputId": "6645fe3c-dcfd-40fc-cda9-3db9337a358e"
   },
   "outputs": [
    {
     "name": "stdout",
     "output_type": "stream",
     "text": [
      "\n",
      "== Verification of 'D1a_CLIP_inital_labeling' vs. 'section_numeric' ==\n",
      "Accuracy:   43.50%\n",
      "Macro F1:   36.72%\n",
      "Micro  F1:  43.50%\n",
      "\n",
      "Full classification report:\n",
      "              precision    recall  f1-score   support\n",
      "\n",
      "           1       0.25      0.08      0.12        13\n",
      "           2       0.33      0.09      0.14        11\n",
      "           3       0.60      0.50      0.55        12\n",
      "           4       0.75      0.33      0.46         9\n",
      "           5       1.00      0.17      0.29         6\n",
      "           6       0.80      0.44      0.57         9\n",
      "           7       0.33      1.00      0.50         2\n",
      "           8       0.50      0.40      0.44         5\n",
      "           9       0.00      0.00      0.00         9\n",
      "          10       0.39      0.82      0.53        11\n",
      "          11       0.33      0.07      0.12        14\n",
      "          12       0.00      0.00      0.00        10\n",
      "          13       0.62      0.56      0.59         9\n",
      "          14       0.93      0.72      0.81        18\n",
      "          15       0.50      0.14      0.22         7\n",
      "          16       0.00      0.00      0.00         7\n",
      "          17       0.89      0.89      0.89         9\n",
      "          18       0.00      0.00      0.00         2\n",
      "          19       0.77      0.77      0.77        13\n",
      "          20       0.11      1.00      0.20         8\n",
      "          21       0.00      0.00      0.00         1\n",
      "          22       0.67      0.67      0.67         3\n",
      "          23       1.00      0.91      0.95        11\n",
      "          24       0.00      0.00      0.00         1\n",
      "\n",
      "    accuracy                           0.43       200\n",
      "   macro avg       0.45      0.40      0.37       200\n",
      "weighted avg       0.52      0.43      0.42       200\n",
      "\n",
      "\n",
      "Confusion matrix:\n",
      "[[ 1  0  0  0  0  0  1  0  0  0  0  0  0  0  0  0  0  1  0  9  1  0  0  0]\n",
      " [ 1  1  0  0  0  0  0  0  0  0  0  0  0  0  0  0  0  0  0  9  0  0  0  0]\n",
      " [ 0  0  6  0  0  0  0  1  0  1  0  0  1  0  0  0  0  0  0  3  0  0  0  0]\n",
      " [ 0  0  0  3  0  0  1  0  0  1  0  0  1  0  0  0  1  0  0  2  0  0  0  0]\n",
      " [ 0  1  1  0  1  0  0  0  0  1  0  0  0  0  0  0  0  0  0  2  0  0  0  0]\n",
      " [ 0  0  0  0  0  4  0  0  0  5  0  0  0  0  0  0  0  0  0  0  0  0  0  0]\n",
      " [ 0  0  0  0  0  0  2  0  0  0  0  0  0  0  0  0  0  0  0  0  0  0  0  0]\n",
      " [ 0  0  0  0  0  0  0  2  0  0  0  0  0  0  0  0  0  0  0  3  0  0  0  0]\n",
      " [ 0  0  0  0  0  0  0  0  0  0  0  0  0  0  0  0  0  0  0  9  0  0  0  0]\n",
      " [ 0  0  0  0  0  0  0  0  0  9  0  0  0  0  0  0  0  0  0  2  0  0  0  0]\n",
      " [ 1  1  0  0  0  0  0  0  0  0  1  0  0  0  1  0  0  1  0  7  0  1  0  1]\n",
      " [ 0  0  0  0  0  0  0  0  0  5  0  0  0  0  0  0  0  0  0  5  0  0  0  0]\n",
      " [ 0  0  0  1  0  0  0  0  0  0  0  0  5  0  0  0  0  0  0  3  0  0  0  0]\n",
      " [ 0  0  1  0  0  0  0  0  0  0  0  0  0 13  0  0  0  0  1  3  0  0  0  0]\n",
      " [ 0  0  0  0  0  1  0  0  0  1  0  0  1  0  1  0  0  1  1  1  0  0  0  0]\n",
      " [ 0  0  2  0  0  0  0  0  0  0  2  0  0  0  0  0  0  0  1  2  0  0  0  0]\n",
      " [ 0  0  0  0  0  0  0  0  0  0  0  0  0  0  0  0  8  0  0  1  0  0  0  0]\n",
      " [ 1  0  0  0  0  0  0  0  0  0  0  0  0  1  0  0  0  0  0  0  0  0  0  0]\n",
      " [ 0  0  0  0  0  0  0  0  0  0  0  0  0  0  0  0  0  0 10  3  0  0  0  0]\n",
      " [ 0  0  0  0  0  0  0  0  0  0  0  0  0  0  0  0  0  0  0  8  0  0  0  0]\n",
      " [ 0  0  0  0  0  0  1  0  0  0  0  0  0  0  0  0  0  0  0  0  0  0  0  0]\n",
      " [ 0  0  0  0  0  0  1  0  0  0  0  0  0  0  0  0  0  0  0  0  0  2  0  0]\n",
      " [ 0  0  0  0  0  0  0  0  0  0  0  0  0  0  0  0  0  0  0  1  0  0 10  0]\n",
      " [ 0  0  0  0  0  0  0  1  0  0  0  0  0  0  0  0  0  0  0  0  0  0  0  0]]\n",
      "\n",
      ">> Overall accuracy: 43.50%\n"
     ]
    }
   ],
   "source": [
    "## Check the accuracy: CLIP initial labeling\n",
    "auto_verification(\n",
    "    D1a_CLIP_inital_labeling,\n",
    "    predicted_cols=\"D1a_CLIP_inital_labeling\",\n",
    "    true_cols=\"section_numeric\",\n",
    "    category=category_D1_CLIP\n",
    ")"
   ]
  },
  {
   "cell_type": "markdown",
   "id": "aggressive-brighton",
   "metadata": {},
   "source": [
    "### finetune: CLIP"
   ]
  },
  {
   "cell_type": "code",
   "execution_count": 5,
   "id": "streaming-adelaide",
   "metadata": {
    "scrolled": true
   },
   "outputs": [
    {
     "name": "stdout",
     "output_type": "stream",
     "text": [
      "Loaded 200 records\n",
      "Number of classes: 24\n",
      "Use text: True, Use image: False\n",
      "Text columns: ['headline', 'abstract']\n",
      "Label column: section_numeric\n",
      "Training set class distribution: section_numeric\n",
      "14    17\n",
      "1     12\n",
      "3     11\n",
      "10    10\n",
      "19    10\n",
      "6      9\n",
      "11     9\n",
      "12     9\n",
      "9      8\n",
      "13     8\n",
      "23     8\n",
      "4      7\n",
      "5      6\n",
      "2      6\n",
      "16     6\n",
      "17     6\n",
      "15     4\n",
      "20     4\n",
      "8      3\n",
      "22     3\n",
      "7      2\n",
      "18     1\n",
      "21     1\n",
      "Name: count, dtype: int64\n",
      "Validation set class distribution: section_numeric\n",
      "2     5\n",
      "11    5\n",
      "20    4\n",
      "23    3\n",
      "15    3\n",
      "19    3\n",
      "17    3\n",
      "8     2\n",
      "4     2\n",
      "18    1\n",
      "24    1\n",
      "12    1\n",
      "13    1\n",
      "1     1\n",
      "10    1\n",
      "3     1\n",
      "9     1\n",
      "16    1\n",
      "14    1\n",
      "Name: count, dtype: int64\n"
     ]
    },
    {
     "name": "stderr",
     "output_type": "stream",
     "text": [
      "Epoch 1/20 [Train]:  50%|█████     | 10/20 [00:04<00:03,  2.73it/s]"
     ]
    },
    {
     "name": "stdout",
     "output_type": "stream",
     "text": [
      "Batch 10/20: Loss: 3.1757 | Acc: 5.00%\n"
     ]
    },
    {
     "name": "stderr",
     "output_type": "stream",
     "text": [
      "Epoch 1/20 [Train]: 100%|██████████| 20/20 [00:06<00:00,  2.89it/s]\n"
     ]
    },
    {
     "name": "stdout",
     "output_type": "stream",
     "text": [
      "Batch 20/20: Loss: 3.1316 | Acc: 9.38%\n"
     ]
    },
    {
     "name": "stderr",
     "output_type": "stream",
     "text": [
      "Epoch 1/20 [Val]: 100%|██████████| 5/5 [00:00<00:00, 12.58it/s]\n"
     ]
    },
    {
     "name": "stdout",
     "output_type": "stream",
     "text": [
      "Epoch 1/20: Train Loss: 3.1650 | Train Acc: 9.38% | Val Loss: 3.1641 | Val Acc: 7.50%\n",
      "Model saved! Best validation accuracy: 7.50%\n"
     ]
    },
    {
     "name": "stderr",
     "output_type": "stream",
     "text": [
      "Epoch 2/20 [Train]:  50%|█████     | 10/20 [00:02<00:02,  3.33it/s]"
     ]
    },
    {
     "name": "stdout",
     "output_type": "stream",
     "text": [
      "Batch 10/20: Loss: 3.0662 | Acc: 28.75%\n"
     ]
    },
    {
     "name": "stderr",
     "output_type": "stream",
     "text": [
      "Epoch 2/20 [Train]: 100%|██████████| 20/20 [00:05<00:00,  3.39it/s]\n"
     ]
    },
    {
     "name": "stdout",
     "output_type": "stream",
     "text": [
      "Batch 20/20: Loss: 3.1208 | Acc: 32.50%\n"
     ]
    },
    {
     "name": "stderr",
     "output_type": "stream",
     "text": [
      "Epoch 2/20 [Val]: 100%|██████████| 5/5 [00:00<00:00, 11.19it/s]\n"
     ]
    },
    {
     "name": "stdout",
     "output_type": "stream",
     "text": [
      "Epoch 2/20: Train Loss: 3.0905 | Train Acc: 32.50% | Val Loss: 3.1480 | Val Acc: 7.50%\n"
     ]
    },
    {
     "name": "stderr",
     "output_type": "stream",
     "text": [
      "Epoch 3/20 [Train]:  50%|█████     | 10/20 [00:02<00:02,  3.76it/s]"
     ]
    },
    {
     "name": "stdout",
     "output_type": "stream",
     "text": [
      "Batch 10/20: Loss: 3.0136 | Acc: 68.75%\n"
     ]
    },
    {
     "name": "stderr",
     "output_type": "stream",
     "text": [
      "Epoch 3/20 [Train]: 100%|██████████| 20/20 [00:05<00:00,  3.58it/s]\n"
     ]
    },
    {
     "name": "stdout",
     "output_type": "stream",
     "text": [
      "Batch 20/20: Loss: 3.0151 | Acc: 68.12%\n"
     ]
    },
    {
     "name": "stderr",
     "output_type": "stream",
     "text": [
      "Epoch 3/20 [Val]: 100%|██████████| 5/5 [00:00<00:00,  9.88it/s]\n"
     ]
    },
    {
     "name": "stdout",
     "output_type": "stream",
     "text": [
      "Epoch 3/20: Train Loss: 3.0203 | Train Acc: 68.12% | Val Loss: 3.1208 | Val Acc: 20.00%\n",
      "Model saved! Best validation accuracy: 20.00%\n"
     ]
    },
    {
     "name": "stderr",
     "output_type": "stream",
     "text": [
      "Epoch 4/20 [Train]:  50%|█████     | 10/20 [00:02<00:02,  3.41it/s]"
     ]
    },
    {
     "name": "stdout",
     "output_type": "stream",
     "text": [
      "Batch 10/20: Loss: 2.9384 | Acc: 91.25%\n"
     ]
    },
    {
     "name": "stderr",
     "output_type": "stream",
     "text": [
      "Epoch 4/20 [Train]: 100%|██████████| 20/20 [00:05<00:00,  3.54it/s]\n"
     ]
    },
    {
     "name": "stdout",
     "output_type": "stream",
     "text": [
      "Batch 20/20: Loss: 2.8977 | Acc: 92.50%\n"
     ]
    },
    {
     "name": "stderr",
     "output_type": "stream",
     "text": [
      "Epoch 4/20 [Val]: 100%|██████████| 5/5 [00:00<00:00, 14.10it/s]\n"
     ]
    },
    {
     "name": "stdout",
     "output_type": "stream",
     "text": [
      "Epoch 4/20: Train Loss: 2.9472 | Train Acc: 92.50% | Val Loss: 3.0903 | Val Acc: 25.00%\n",
      "Model saved! Best validation accuracy: 25.00%\n"
     ]
    },
    {
     "name": "stderr",
     "output_type": "stream",
     "text": [
      "Epoch 5/20 [Train]:  50%|█████     | 10/20 [00:03<00:02,  3.39it/s]"
     ]
    },
    {
     "name": "stdout",
     "output_type": "stream",
     "text": [
      "Batch 10/20: Loss: 2.9298 | Acc: 96.25%\n"
     ]
    },
    {
     "name": "stderr",
     "output_type": "stream",
     "text": [
      "Epoch 5/20 [Train]: 100%|██████████| 20/20 [00:05<00:00,  3.41it/s]\n"
     ]
    },
    {
     "name": "stdout",
     "output_type": "stream",
     "text": [
      "Batch 20/20: Loss: 2.8663 | Acc: 94.38%\n"
     ]
    },
    {
     "name": "stderr",
     "output_type": "stream",
     "text": [
      "Epoch 5/20 [Val]: 100%|██████████| 5/5 [00:00<00:00, 12.02it/s]\n"
     ]
    },
    {
     "name": "stdout",
     "output_type": "stream",
     "text": [
      "Epoch 5/20: Train Loss: 2.8812 | Train Acc: 94.38% | Val Loss: 3.0633 | Val Acc: 45.00%\n",
      "Model saved! Best validation accuracy: 45.00%\n"
     ]
    },
    {
     "name": "stderr",
     "output_type": "stream",
     "text": [
      "Epoch 6/20 [Train]:  50%|█████     | 10/20 [00:02<00:02,  3.58it/s]"
     ]
    },
    {
     "name": "stdout",
     "output_type": "stream",
     "text": [
      "Batch 10/20: Loss: 2.8628 | Acc: 97.50%\n"
     ]
    },
    {
     "name": "stderr",
     "output_type": "stream",
     "text": [
      "Epoch 6/20 [Train]: 100%|██████████| 20/20 [00:05<00:00,  3.65it/s]\n"
     ]
    },
    {
     "name": "stdout",
     "output_type": "stream",
     "text": [
      "Batch 20/20: Loss: 2.8271 | Acc: 98.12%\n"
     ]
    },
    {
     "name": "stderr",
     "output_type": "stream",
     "text": [
      "Epoch 6/20 [Val]: 100%|██████████| 5/5 [00:00<00:00, 12.87it/s]\n"
     ]
    },
    {
     "name": "stdout",
     "output_type": "stream",
     "text": [
      "Epoch 6/20: Train Loss: 2.8271 | Train Acc: 98.12% | Val Loss: 3.0390 | Val Acc: 50.00%\n",
      "Model saved! Best validation accuracy: 50.00%\n"
     ]
    },
    {
     "name": "stderr",
     "output_type": "stream",
     "text": [
      "Epoch 7/20 [Train]:  50%|█████     | 10/20 [00:02<00:02,  3.72it/s]"
     ]
    },
    {
     "name": "stdout",
     "output_type": "stream",
     "text": [
      "Batch 10/20: Loss: 2.7593 | Acc: 100.00%\n"
     ]
    },
    {
     "name": "stderr",
     "output_type": "stream",
     "text": [
      "Epoch 7/20 [Train]: 100%|██████████| 20/20 [00:05<00:00,  3.71it/s]\n"
     ]
    },
    {
     "name": "stdout",
     "output_type": "stream",
     "text": [
      "Batch 20/20: Loss: 2.7629 | Acc: 100.00%\n"
     ]
    },
    {
     "name": "stderr",
     "output_type": "stream",
     "text": [
      "Epoch 7/20 [Val]: 100%|██████████| 5/5 [00:00<00:00, 12.14it/s]\n"
     ]
    },
    {
     "name": "stdout",
     "output_type": "stream",
     "text": [
      "Epoch 7/20: Train Loss: 2.7855 | Train Acc: 100.00% | Val Loss: 3.0188 | Val Acc: 55.00%\n",
      "Model saved! Best validation accuracy: 55.00%\n"
     ]
    },
    {
     "name": "stderr",
     "output_type": "stream",
     "text": [
      "Epoch 8/20 [Train]:  50%|█████     | 10/20 [00:02<00:02,  3.58it/s]"
     ]
    },
    {
     "name": "stdout",
     "output_type": "stream",
     "text": [
      "Batch 10/20: Loss: 2.7594 | Acc: 100.00%\n"
     ]
    },
    {
     "name": "stderr",
     "output_type": "stream",
     "text": [
      "Epoch 8/20 [Train]: 100%|██████████| 20/20 [00:05<00:00,  3.53it/s]\n"
     ]
    },
    {
     "name": "stdout",
     "output_type": "stream",
     "text": [
      "Batch 20/20: Loss: 2.7518 | Acc: 100.00%\n"
     ]
    },
    {
     "name": "stderr",
     "output_type": "stream",
     "text": [
      "Epoch 8/20 [Val]: 100%|██████████| 5/5 [00:00<00:00, 12.83it/s]\n"
     ]
    },
    {
     "name": "stdout",
     "output_type": "stream",
     "text": [
      "Epoch 8/20: Train Loss: 2.7537 | Train Acc: 100.00% | Val Loss: 2.9994 | Val Acc: 60.00%\n",
      "Model saved! Best validation accuracy: 60.00%\n"
     ]
    },
    {
     "name": "stderr",
     "output_type": "stream",
     "text": [
      "Epoch 9/20 [Train]:  50%|█████     | 10/20 [00:02<00:02,  3.72it/s]"
     ]
    },
    {
     "name": "stdout",
     "output_type": "stream",
     "text": [
      "Batch 10/20: Loss: 2.7018 | Acc: 100.00%\n"
     ]
    },
    {
     "name": "stderr",
     "output_type": "stream",
     "text": [
      "Epoch 9/20 [Train]: 100%|██████████| 20/20 [00:05<00:00,  3.71it/s]\n"
     ]
    },
    {
     "name": "stdout",
     "output_type": "stream",
     "text": [
      "Batch 20/20: Loss: 2.7549 | Acc: 100.00%\n"
     ]
    },
    {
     "name": "stderr",
     "output_type": "stream",
     "text": [
      "Epoch 9/20 [Val]: 100%|██████████| 5/5 [00:00<00:00, 13.34it/s]\n"
     ]
    },
    {
     "name": "stdout",
     "output_type": "stream",
     "text": [
      "Epoch 9/20: Train Loss: 2.7231 | Train Acc: 100.00% | Val Loss: 2.9826 | Val Acc: 57.50%\n"
     ]
    },
    {
     "name": "stderr",
     "output_type": "stream",
     "text": [
      "Epoch 10/20 [Train]:  50%|█████     | 10/20 [00:02<00:02,  3.71it/s]"
     ]
    },
    {
     "name": "stdout",
     "output_type": "stream",
     "text": [
      "Batch 10/20: Loss: 2.7003 | Acc: 100.00%\n"
     ]
    },
    {
     "name": "stderr",
     "output_type": "stream",
     "text": [
      "Epoch 10/20 [Train]: 100%|██████████| 20/20 [00:05<00:00,  3.64it/s]\n"
     ]
    },
    {
     "name": "stdout",
     "output_type": "stream",
     "text": [
      "Batch 20/20: Loss: 2.6945 | Acc: 100.00%\n"
     ]
    },
    {
     "name": "stderr",
     "output_type": "stream",
     "text": [
      "Epoch 10/20 [Val]: 100%|██████████| 5/5 [00:00<00:00,  9.75it/s]\n"
     ]
    },
    {
     "name": "stdout",
     "output_type": "stream",
     "text": [
      "Epoch 10/20: Train Loss: 2.7072 | Train Acc: 100.00% | Val Loss: 2.9723 | Val Acc: 62.50%\n",
      "Model saved! Best validation accuracy: 62.50%\n"
     ]
    },
    {
     "name": "stderr",
     "output_type": "stream",
     "text": [
      "Epoch 11/20 [Train]:  50%|█████     | 10/20 [00:03<00:03,  3.19it/s]"
     ]
    },
    {
     "name": "stdout",
     "output_type": "stream",
     "text": [
      "Batch 10/20: Loss: 2.7063 | Acc: 100.00%\n"
     ]
    },
    {
     "name": "stderr",
     "output_type": "stream",
     "text": [
      "Epoch 11/20 [Train]: 100%|██████████| 20/20 [00:06<00:00,  3.08it/s]\n"
     ]
    },
    {
     "name": "stdout",
     "output_type": "stream",
     "text": [
      "Batch 20/20: Loss: 2.7097 | Acc: 100.00%\n"
     ]
    },
    {
     "name": "stderr",
     "output_type": "stream",
     "text": [
      "Epoch 11/20 [Val]: 100%|██████████| 5/5 [00:00<00:00, 10.91it/s]\n"
     ]
    },
    {
     "name": "stdout",
     "output_type": "stream",
     "text": [
      "Epoch 11/20: Train Loss: 2.6853 | Train Acc: 100.00% | Val Loss: 2.9580 | Val Acc: 62.50%\n"
     ]
    },
    {
     "name": "stderr",
     "output_type": "stream",
     "text": [
      "Epoch 12/20 [Train]:  50%|█████     | 10/20 [00:03<00:03,  2.84it/s]"
     ]
    },
    {
     "name": "stdout",
     "output_type": "stream",
     "text": [
      "Batch 10/20: Loss: 2.6544 | Acc: 100.00%\n"
     ]
    },
    {
     "name": "stderr",
     "output_type": "stream",
     "text": [
      "Epoch 12/20 [Train]: 100%|██████████| 20/20 [00:06<00:00,  3.02it/s]\n"
     ]
    },
    {
     "name": "stdout",
     "output_type": "stream",
     "text": [
      "Batch 20/20: Loss: 2.6948 | Acc: 100.00%\n"
     ]
    },
    {
     "name": "stderr",
     "output_type": "stream",
     "text": [
      "Epoch 12/20 [Val]: 100%|██████████| 5/5 [00:00<00:00, 12.58it/s]\n"
     ]
    },
    {
     "name": "stdout",
     "output_type": "stream",
     "text": [
      "Epoch 12/20: Train Loss: 2.6688 | Train Acc: 100.00% | Val Loss: 2.9466 | Val Acc: 70.00%\n",
      "Model saved! Best validation accuracy: 70.00%\n"
     ]
    },
    {
     "name": "stderr",
     "output_type": "stream",
     "text": [
      "Epoch 13/20 [Train]:  50%|█████     | 10/20 [00:02<00:02,  3.48it/s]"
     ]
    },
    {
     "name": "stdout",
     "output_type": "stream",
     "text": [
      "Batch 10/20: Loss: 2.6695 | Acc: 100.00%\n"
     ]
    },
    {
     "name": "stderr",
     "output_type": "stream",
     "text": [
      "Epoch 13/20 [Train]: 100%|██████████| 20/20 [00:05<00:00,  3.53it/s]\n"
     ]
    },
    {
     "name": "stdout",
     "output_type": "stream",
     "text": [
      "Batch 20/20: Loss: 2.6951 | Acc: 100.00%\n"
     ]
    },
    {
     "name": "stderr",
     "output_type": "stream",
     "text": [
      "Epoch 13/20 [Val]: 100%|██████████| 5/5 [00:00<00:00, 13.23it/s]\n"
     ]
    },
    {
     "name": "stdout",
     "output_type": "stream",
     "text": [
      "Epoch 13/20: Train Loss: 2.6585 | Train Acc: 100.00% | Val Loss: 2.9389 | Val Acc: 67.50%\n"
     ]
    },
    {
     "name": "stderr",
     "output_type": "stream",
     "text": [
      "Epoch 14/20 [Train]:  50%|█████     | 10/20 [00:02<00:02,  3.59it/s]"
     ]
    },
    {
     "name": "stdout",
     "output_type": "stream",
     "text": [
      "Batch 10/20: Loss: 2.6638 | Acc: 100.00%\n"
     ]
    },
    {
     "name": "stderr",
     "output_type": "stream",
     "text": [
      "Epoch 14/20 [Train]: 100%|██████████| 20/20 [00:05<00:00,  3.57it/s]\n"
     ]
    },
    {
     "name": "stdout",
     "output_type": "stream",
     "text": [
      "Batch 20/20: Loss: 2.6487 | Acc: 100.00%\n"
     ]
    },
    {
     "name": "stderr",
     "output_type": "stream",
     "text": [
      "Epoch 14/20 [Val]: 100%|██████████| 5/5 [00:00<00:00, 13.70it/s]\n"
     ]
    },
    {
     "name": "stdout",
     "output_type": "stream",
     "text": [
      "Epoch 14/20: Train Loss: 2.6484 | Train Acc: 100.00% | Val Loss: 2.9323 | Val Acc: 67.50%\n"
     ]
    },
    {
     "name": "stderr",
     "output_type": "stream",
     "text": [
      "Epoch 15/20 [Train]:  50%|█████     | 10/20 [00:02<00:02,  3.56it/s]"
     ]
    },
    {
     "name": "stdout",
     "output_type": "stream",
     "text": [
      "Batch 10/20: Loss: 2.6445 | Acc: 100.00%\n"
     ]
    },
    {
     "name": "stderr",
     "output_type": "stream",
     "text": [
      "Epoch 15/20 [Train]: 100%|██████████| 20/20 [00:05<00:00,  3.65it/s]\n"
     ]
    },
    {
     "name": "stdout",
     "output_type": "stream",
     "text": [
      "Batch 20/20: Loss: 2.6228 | Acc: 100.00%\n"
     ]
    },
    {
     "name": "stderr",
     "output_type": "stream",
     "text": [
      "Epoch 15/20 [Val]: 100%|██████████| 5/5 [00:00<00:00, 12.88it/s]\n"
     ]
    },
    {
     "name": "stdout",
     "output_type": "stream",
     "text": [
      "Epoch 15/20: Train Loss: 2.6388 | Train Acc: 100.00% | Val Loss: 2.9261 | Val Acc: 67.50%\n"
     ]
    },
    {
     "name": "stderr",
     "output_type": "stream",
     "text": [
      "Epoch 16/20 [Train]:  50%|█████     | 10/20 [00:02<00:02,  3.58it/s]"
     ]
    },
    {
     "name": "stdout",
     "output_type": "stream",
     "text": [
      "Batch 10/20: Loss: 2.6165 | Acc: 100.00%\n"
     ]
    },
    {
     "name": "stderr",
     "output_type": "stream",
     "text": [
      "Epoch 16/20 [Train]: 100%|██████████| 20/20 [00:05<00:00,  3.62it/s]\n"
     ]
    },
    {
     "name": "stdout",
     "output_type": "stream",
     "text": [
      "Batch 20/20: Loss: 2.6407 | Acc: 100.00%\n"
     ]
    },
    {
     "name": "stderr",
     "output_type": "stream",
     "text": [
      "Epoch 16/20 [Val]: 100%|██████████| 5/5 [00:00<00:00, 13.23it/s]\n"
     ]
    },
    {
     "name": "stdout",
     "output_type": "stream",
     "text": [
      "Epoch 16/20: Train Loss: 2.6356 | Train Acc: 100.00% | Val Loss: 2.9201 | Val Acc: 65.00%\n"
     ]
    },
    {
     "name": "stderr",
     "output_type": "stream",
     "text": [
      "Epoch 17/20 [Train]:  50%|█████     | 10/20 [00:02<00:02,  3.64it/s]"
     ]
    },
    {
     "name": "stdout",
     "output_type": "stream",
     "text": [
      "Batch 10/20: Loss: 2.6261 | Acc: 100.00%\n"
     ]
    },
    {
     "name": "stderr",
     "output_type": "stream",
     "text": [
      "Epoch 17/20 [Train]: 100%|██████████| 20/20 [00:05<00:00,  3.54it/s]\n"
     ]
    },
    {
     "name": "stdout",
     "output_type": "stream",
     "text": [
      "Batch 20/20: Loss: 2.6356 | Acc: 100.00%\n"
     ]
    },
    {
     "name": "stderr",
     "output_type": "stream",
     "text": [
      "Epoch 17/20 [Val]: 100%|██████████| 5/5 [00:00<00:00, 11.65it/s]\n"
     ]
    },
    {
     "name": "stdout",
     "output_type": "stream",
     "text": [
      "Epoch 17/20: Train Loss: 2.6278 | Train Acc: 100.00% | Val Loss: 2.9135 | Val Acc: 67.50%\n"
     ]
    },
    {
     "name": "stderr",
     "output_type": "stream",
     "text": [
      "Epoch 18/20 [Train]:  50%|█████     | 10/20 [00:02<00:02,  3.49it/s]"
     ]
    },
    {
     "name": "stdout",
     "output_type": "stream",
     "text": [
      "Batch 10/20: Loss: 2.6450 | Acc: 100.00%\n"
     ]
    },
    {
     "name": "stderr",
     "output_type": "stream",
     "text": [
      "Epoch 18/20 [Train]: 100%|██████████| 20/20 [00:05<00:00,  3.53it/s]\n"
     ]
    },
    {
     "name": "stdout",
     "output_type": "stream",
     "text": [
      "Batch 20/20: Loss: 2.6126 | Acc: 100.00%\n"
     ]
    },
    {
     "name": "stderr",
     "output_type": "stream",
     "text": [
      "Epoch 18/20 [Val]: 100%|██████████| 5/5 [00:00<00:00, 10.83it/s]\n"
     ]
    },
    {
     "name": "stdout",
     "output_type": "stream",
     "text": [
      "Epoch 18/20: Train Loss: 2.6228 | Train Acc: 100.00% | Val Loss: 2.9101 | Val Acc: 67.50%\n"
     ]
    },
    {
     "name": "stderr",
     "output_type": "stream",
     "text": [
      "Epoch 19/20 [Train]:  50%|█████     | 10/20 [00:02<00:02,  3.56it/s]"
     ]
    },
    {
     "name": "stdout",
     "output_type": "stream",
     "text": [
      "Batch 10/20: Loss: 2.6202 | Acc: 100.00%\n"
     ]
    },
    {
     "name": "stderr",
     "output_type": "stream",
     "text": [
      "Epoch 19/20 [Train]: 100%|██████████| 20/20 [00:05<00:00,  3.57it/s]\n"
     ]
    },
    {
     "name": "stdout",
     "output_type": "stream",
     "text": [
      "Batch 20/20: Loss: 2.6166 | Acc: 100.00%\n"
     ]
    },
    {
     "name": "stderr",
     "output_type": "stream",
     "text": [
      "Epoch 19/20 [Val]: 100%|██████████| 5/5 [00:00<00:00, 11.82it/s]\n"
     ]
    },
    {
     "name": "stdout",
     "output_type": "stream",
     "text": [
      "Epoch 19/20: Train Loss: 2.6176 | Train Acc: 100.00% | Val Loss: 2.9033 | Val Acc: 65.00%\n"
     ]
    },
    {
     "name": "stderr",
     "output_type": "stream",
     "text": [
      "Epoch 20/20 [Train]:  50%|█████     | 10/20 [00:02<00:02,  3.52it/s]"
     ]
    },
    {
     "name": "stdout",
     "output_type": "stream",
     "text": [
      "Batch 10/20: Loss: 2.6245 | Acc: 100.00%\n"
     ]
    },
    {
     "name": "stderr",
     "output_type": "stream",
     "text": [
      "Epoch 20/20 [Train]: 100%|██████████| 20/20 [00:05<00:00,  3.45it/s]\n"
     ]
    },
    {
     "name": "stdout",
     "output_type": "stream",
     "text": [
      "Batch 20/20: Loss: 2.6406 | Acc: 100.00%\n"
     ]
    },
    {
     "name": "stderr",
     "output_type": "stream",
     "text": [
      "Epoch 20/20 [Val]: 100%|██████████| 5/5 [00:00<00:00, 12.96it/s]"
     ]
    },
    {
     "name": "stdout",
     "output_type": "stream",
     "text": [
      "Epoch 20/20: Train Loss: 2.6134 | Train Acc: 100.00% | Val Loss: 2.8928 | Val Acc: 67.50%\n",
      "Fine-tuning complete! Best validation accuracy: 70.00%\n"
     ]
    },
    {
     "name": "stderr",
     "output_type": "stream",
     "text": [
      "\n"
     ]
    },
    {
     "data": {
      "text/plain": [
       "70.0"
      ]
     },
     "execution_count": 5,
     "metadata": {},
     "output_type": "execute_result"
    }
   ],
   "source": [
    "# finetune CLIP\n",
    "finetune_CLIP(\n",
    "    mode=\"text\",\n",
    "    text_path=\"Demo_data/D1_1.csv\",\n",
    "    text_column=[\"headline\", \"abstract\"],\n",
    "    true_label=\"section_numeric\",\n",
    "    model_name=\"Demo_finetuned_CLIP/D1a_CLIP_model_finetuned.pth\",\n",
    "    num_epochs=20,\n",
    "    batch_size=8,\n",
    "    learning_rate=1e-5,\n",
    ")\n"
   ]
  },
  {
   "cell_type": "code",
   "execution_count": 6,
   "id": "attended-services",
   "metadata": {},
   "outputs": [
    {
     "name": "stdout",
     "output_type": "stream",
     "text": [
      "200 pieces of data loaded\n"
     ]
    },
    {
     "name": "stderr",
     "output_type": "stream",
     "text": [
      "predicting: 100%|██████████| 25/25 [00:02<00:00,  9.18it/s]\n"
     ]
    },
    {
     "name": "stdout",
     "output_type": "stream",
     "text": [
      "Labeling completed!\n"
     ]
    }
   ],
   "source": [
    "# Classify with a fine‑tuned model\n",
    "D1a_CLIP_finetuned = classification_CLIP_finetuned(\n",
    "    mode=\"text\",\n",
    "    text_path=\"Demo_data/D1_2.csv\",\n",
    "    text_column=[\"headline\", \"abstract\"],\n",
    "    model_name=\"Demo_finetuned_CLIP/D1a_CLIP_model_finetuned.pth\",\n",
    "    predict_column=\"D1a_CLIP_finetuned\",\n",
    ")\n",
    "\n",
    "\n",
    "D1a_CLIP_finetuned.to_csv(\"Demo_result/D1a_CLIP_finetuned.csv\", index=False)"
   ]
  },
  {
   "cell_type": "code",
   "execution_count": 7,
   "id": "diverse-thomson",
   "metadata": {},
   "outputs": [
    {
     "name": "stdout",
     "output_type": "stream",
     "text": [
      "\n",
      "== Verification of 'D1a_CLIP_finetuned' vs. 'section_numeric' ==\n",
      "Accuracy:   62.50%\n",
      "Macro F1:   54.86%\n",
      "Micro  F1:  62.50%\n",
      "\n",
      "Full classification report:\n",
      "              precision    recall  f1-score   support\n",
      "\n",
      "           1       0.59      0.71      0.65        14\n",
      "           2       0.80      0.57      0.67         7\n",
      "           3       1.00      0.65      0.79        17\n",
      "           4       0.29      0.80      0.42         5\n",
      "           5       1.00      0.50      0.67         4\n",
      "           6       1.00      1.00      1.00         8\n",
      "           7       1.00      0.07      0.12        15\n",
      "           8       1.00      0.14      0.25         7\n",
      "           9       1.00      0.83      0.91         6\n",
      "          10       0.57      0.92      0.71        13\n",
      "          11       0.34      1.00      0.51        10\n",
      "          12       0.57      0.73      0.64        11\n",
      "          13       0.91      0.83      0.87        12\n",
      "          14       0.59      0.91      0.71        11\n",
      "          15       0.00      0.00      0.00         9\n",
      "          16       1.00      0.18      0.31        11\n",
      "          17       0.75      0.82      0.78        11\n",
      "          19       0.50      0.67      0.57         6\n",
      "          20       0.67      0.91      0.77        11\n",
      "          21       0.00      0.00      0.00         5\n",
      "          22       0.00      0.00      0.00         3\n",
      "          23       0.57      1.00      0.73         4\n",
      "\n",
      "    accuracy                           0.62       200\n",
      "   macro avg       0.64      0.60      0.55       200\n",
      "weighted avg       0.69      0.62      0.58       200\n",
      "\n",
      "\n",
      "Confusion matrix:\n",
      "[[10  1  0  0  0  0  0  0  0  0  1  0  0  0  0  0  1  0  1  0  0  0]\n",
      " [ 2  4  0  0  0  0  0  0  0  0  0  0  0  0  0  0  0  0  0  0  0  1]\n",
      " [ 0  0 11  0  0  0  0  0  0  3  2  1  0  0  0  0  0  0  0  0  0  0]\n",
      " [ 0  0  0  4  0  0  0  0  0  0  0  0  0  1  0  0  0  0  0  0  0  0]\n",
      " [ 0  0  0  0  2  0  0  0  0  2  0  0  0  0  0  0  0  0  0  0  0  0]\n",
      " [ 0  0  0  0  0  8  0  0  0  0  0  0  0  0  0  0  0  0  0  0  0  0]\n",
      " [ 0  0  0  9  0  0  1  0  0  0  2  0  0  1  0  0  2  0  0  0  0  0]\n",
      " [ 2  0  0  0  0  0  0  1  0  0  3  0  0  0  0  0  0  1  0  0  0  0]\n",
      " [ 0  0  0  0  0  0  0  0  5  0  0  0  0  1  0  0  0  0  0  0  0  0]\n",
      " [ 0  0  0  0  0  0  0  0  0 12  0  1  0  0  0  0  0  0  0  0  0  0]\n",
      " [ 0  0  0  0  0  0  0  0  0  0 10  0  0  0  0  0  0  0  0  0  0  0]\n",
      " [ 1  0  0  0  0  0  0  0  0  2  0  8  0  0  0  0  0  0  0  0  0  0]\n",
      " [ 0  0  0  0  0  0  0  0  0  0  1  0 10  1  0  0  0  0  0  0  0  0]\n",
      " [ 0  0  0  0  0  0  0  0  0  0  0  0  0 10  0  0  0  1  0  0  0  0]\n",
      " [ 1  0  0  0  0  0  0  0  0  0  2  2  0  1  0  0  0  2  0  0  0  1]\n",
      " [ 0  0  0  0  0  0  0  0  0  2  3  1  0  0  0  2  0  0  3  0  0  0]\n",
      " [ 0  0  0  1  0  0  0  0  0  0  0  0  0  1  0  0  9  0  0  0  0  0]\n",
      " [ 0  0  0  0  0  0  0  0  0  0  0  0  1  0  0  0  0  4  1  0  0  0]\n",
      " [ 0  0  0  0  0  0  0  0  0  0  0  1  0  0  0  0  0  0 10  0  0  0]\n",
      " [ 1  0  0  0  0  0  0  0  0  0  2  0  0  1  0  0  0  0  0  0  0  1]\n",
      " [ 0  0  0  0  0  0  0  0  0  0  3  0  0  0  0  0  0  0  0  0  0  0]\n",
      " [ 0  0  0  0  0  0  0  0  0  0  0  0  0  0  0  0  0  0  0  0  0  4]]\n",
      "\n",
      ">> Overall accuracy: 62.50%\n"
     ]
    }
   ],
   "source": [
    "## Check the accuracy: CLIP after finetune\n",
    "auto_verification(\n",
    "    D1a_CLIP_finetuned,\n",
    "    predicted_cols=\"D1a_CLIP_finetuned\",\n",
    "    true_cols=\"section_numeric\",\n",
    "    category=category_D1_CLIP\n",
    ")"
   ]
  },
  {
   "cell_type": "markdown",
   "id": "global-motel",
   "metadata": {
    "id": "d6e7cf88-f625-4bdf-adb3-9c2a0d3d0532"
   },
   "source": [
    "# Demo 1b: Classify single-category image data\n",
    "\n",
    "**Datasets:**\n",
    "\n",
    "- `D1_1.csv`: Used for initial labeling and fine-tuning.\n",
    "- `imgs_40_1`: Used for initial labeling and fine-tuning.\n",
    "\n",
    "- `D1_2.csv`: Used for testing the fine-tuned model's performance.\n",
    "- `imgs_40_2`: Used for testing the fine-tuned model's performance.\n",
    "\n",
    "\n",
    "### CSV File Requirements\n",
    "\n",
    "Each CSV file must include at minimum:\n",
    "\n",
    "- `image_id`  \n",
    "  – The base filename (without extension) of each image in the corresponding folder."
   ]
  },
  {
   "cell_type": "markdown",
   "id": "prerequisite-policy",
   "metadata": {},
   "source": [
    "## CLIP: local labeling"
   ]
  },
  {
   "cell_type": "code",
   "execution_count": 8,
   "id": "nearby-neighborhood",
   "metadata": {},
   "outputs": [
    {
     "name": "stdout",
     "output_type": "stream",
     "text": [
      "Loaded 200 records\n"
     ]
    },
    {
     "name": "stderr",
     "output_type": "stream",
     "text": [
      "Predicting: 100%|██████████| 200/200 [00:10<00:00, 18.90it/s]\n"
     ]
    }
   ],
   "source": [
    "D1b_CLIP_inital_labeling = classification_CLIP_0_shot(\n",
    "    text_path=\"Demo_data/D1_1.csv\",\n",
    "    img_dir=\"Demo_data/D1_imgs_1\",\n",
    "    mode=\"image\",\n",
    "    prompt=prompt_D1_CLIP,\n",
    "    predict_column=\"D1b_CLIP_inital_labeling\",\n",
    ")\n",
    "\n",
    "\n",
    "D1b_CLIP_inital_labeling.to_csv(\"Demo_result/D1b_CLIP_inital_labeling.csv\", index=False)"
   ]
  },
  {
   "cell_type": "code",
   "execution_count": 9,
   "id": "8dc49f70-5798-4c9f-9dbe-a9ea6191939c",
   "metadata": {},
   "outputs": [
    {
     "data": {
      "text/html": [
       "<div>\n",
       "<style scoped>\n",
       "    .dataframe tbody tr th:only-of-type {\n",
       "        vertical-align: middle;\n",
       "    }\n",
       "\n",
       "    .dataframe tbody tr th {\n",
       "        vertical-align: top;\n",
       "    }\n",
       "\n",
       "    .dataframe thead th {\n",
       "        text-align: right;\n",
       "    }\n",
       "</style>\n",
       "<table border=\"1\" class=\"dataframe\">\n",
       "  <thead>\n",
       "    <tr style=\"text-align: right;\">\n",
       "      <th></th>\n",
       "      <th>section</th>\n",
       "      <th>headline</th>\n",
       "      <th>article_url</th>\n",
       "      <th>article</th>\n",
       "      <th>abstract</th>\n",
       "      <th>article_id</th>\n",
       "      <th>image</th>\n",
       "      <th>caption</th>\n",
       "      <th>image_id</th>\n",
       "      <th>image_path</th>\n",
       "      <th>section_numeric</th>\n",
       "      <th>D1b_CLIP_inital_labeling</th>\n",
       "    </tr>\n",
       "  </thead>\n",
       "  <tbody>\n",
       "    <tr>\n",
       "      <th>0</th>\n",
       "      <td>Fashion &amp; Style</td>\n",
       "      <td>On This Runway, Non-Models and Cool Kids</td>\n",
       "      <td>https://www.nytimes.com/2016/09/10/fashion/eck...</td>\n",
       "      <td>Over Labor Day weekend, a steady stream of hop...</td>\n",
       "      <td>How the Eckhaus Latta designers select fashion...</td>\n",
       "      <td>e9cd6477-5eb6-58b2-8e33-fd2d881bf656</td>\n",
       "      <td>https://static01.nyt.com/images/2016/09/10/fas...</td>\n",
       "      <td>Mike Eckhaus, center right, and Zoe Latta, cen...</td>\n",
       "      <td>e9cd6477-5eb6-58b2-8e33-fd2d881bf656</td>\n",
       "      <td>Demo_data/D1_imgs/1e9cd6477-5eb6-58b2-8e33-fd2...</td>\n",
       "      <td>19</td>\n",
       "      <td>11</td>\n",
       "    </tr>\n",
       "    <tr>\n",
       "      <th>1</th>\n",
       "      <td>Theater</td>\n",
       "      <td>The New 42nd Street, a Theater Nonprofit, Name...</td>\n",
       "      <td>https://www.nytimes.com/2019/06/11/theater/new...</td>\n",
       "      <td>The New 42nd Street -- the nonprofit organizat...</td>\n",
       "      <td>Russell Granet will be the new president and c...</td>\n",
       "      <td>acdcd1ef-71a9-55f2-9993-7a231d57396f</td>\n",
       "      <td>https://static01.nyt.com/images/2019/06/11/art...</td>\n",
       "      <td>The New 42nd Street board chairwoman, Fiona Ru...</td>\n",
       "      <td>acdcd1ef-71a9-55f2-9993-7a231d57396f</td>\n",
       "      <td>Demo_data/D1_imgs/1acdcd1ef-71a9-55f2-9993-7a2...</td>\n",
       "      <td>10</td>\n",
       "      <td>21</td>\n",
       "    </tr>\n",
       "    <tr>\n",
       "      <th>2</th>\n",
       "      <td>Economy</td>\n",
       "      <td>Tax Tactics Threaten Public Funds</td>\n",
       "      <td>https://www.nytimes.com/2014/10/02/business/ec...</td>\n",
       "      <td>When the European Commission charged this week...</td>\n",
       "      <td>If global corporations can continue to evade t...</td>\n",
       "      <td>1de5c156-9cea-5971-9fdf-b6a4ce9bf35c</td>\n",
       "      <td>https://static01.nyt.com/images/2012/02/29/bus...</td>\n",
       "      <td>Eduardo Porter</td>\n",
       "      <td>1de5c156-9cea-5971-9fdf-b6a4ce9bf35c</td>\n",
       "      <td>Demo_data/D1_imgs/11de5c156-9cea-5971-9fdf-b6a...</td>\n",
       "      <td>8</td>\n",
       "      <td>13</td>\n",
       "    </tr>\n",
       "    <tr>\n",
       "      <th>3</th>\n",
       "      <td>Television</td>\n",
       "      <td>Review: 'The Chi' Returns to the South Side of...</td>\n",
       "      <td>https://www.nytimes.com/2019/04/05/arts/televi...</td>\n",
       "      <td>\"The Chi\" was built around a series of shootin...</td>\n",
       "      <td>Lena Waithe's neighborhood drama on Showtime d...</td>\n",
       "      <td>7bb11a9c-2f6d-57f9-bb36-db7f00f59589</td>\n",
       "      <td>https://static01.nyt.com/images/2019/04/05/art...</td>\n",
       "      <td>Alex Hibbert as Kevin in \"The Chi,\" a sprawlin...</td>\n",
       "      <td>7bb11a9c-2f6d-57f9-bb36-db7f00f59589</td>\n",
       "      <td>Demo_data/D1_imgs/17bb11a9c-2f6d-57f9-bb36-db7...</td>\n",
       "      <td>3</td>\n",
       "      <td>3</td>\n",
       "    </tr>\n",
       "    <tr>\n",
       "      <th>4</th>\n",
       "      <td>Opinion</td>\n",
       "      <td>Banks Should Face History and Pay Reparations</td>\n",
       "      <td>https://www.nytimes.com/2020/06/26/opinion/sun...</td>\n",
       "      <td>Ms. Blackwell is founder in residence at Polic...</td>\n",
       "      <td>The financial industry can close the wealth ga...</td>\n",
       "      <td>165426ae-1e7c-5193-8596-ef96357645a8</td>\n",
       "      <td>https://static01.nyt.com/images/2020/06/25/opi...</td>\n",
       "      <td>A Wells Fargo bank in Minneapolis was set on f...</td>\n",
       "      <td>165426ae-1e7c-5193-8596-ef96357645a8</td>\n",
       "      <td>Demo_data/D1_imgs/1165426ae-1e7c-5193-8596-ef9...</td>\n",
       "      <td>11</td>\n",
       "      <td>12</td>\n",
       "    </tr>\n",
       "    <tr>\n",
       "      <th>...</th>\n",
       "      <td>...</td>\n",
       "      <td>...</td>\n",
       "      <td>...</td>\n",
       "      <td>...</td>\n",
       "      <td>...</td>\n",
       "      <td>...</td>\n",
       "      <td>...</td>\n",
       "      <td>...</td>\n",
       "      <td>...</td>\n",
       "      <td>...</td>\n",
       "      <td>...</td>\n",
       "      <td>...</td>\n",
       "    </tr>\n",
       "    <tr>\n",
       "      <th>195</th>\n",
       "      <td>Automobiles</td>\n",
       "      <td>Wheelies: The Ram On Edition</td>\n",
       "      <td>https://www.nytimes.com/2014/02/05/automobiles...</td>\n",
       "      <td>A roundup of motoring news from the web:\\n\\n# ...</td>\n",
       "      <td>Chrysler executives consider opening a third f...</td>\n",
       "      <td>ad722160-9bde-5350-abf3-a636bc1b6c22</td>\n",
       "      <td>https://static01.nyt.com/images/2014/02/04/aut...</td>\n",
       "      <td>The Ram 1500.</td>\n",
       "      <td>ad722160-9bde-5350-abf3-a636bc1b6c22</td>\n",
       "      <td>Demo_data/D1_imgs/1ad722160-9bde-5350-abf3-a63...</td>\n",
       "      <td>23</td>\n",
       "      <td>23</td>\n",
       "    </tr>\n",
       "    <tr>\n",
       "      <th>196</th>\n",
       "      <td>Science</td>\n",
       "      <td>Geminids Meteor Shower 2020: Watch It Peak in ...</td>\n",
       "      <td>https://www.nytimes.com/2020/12/13/science/gem...</td>\n",
       "      <td>All year long as Earth revolves around the sun...</td>\n",
       "      <td>Meteor showers can light up night skies from d...</td>\n",
       "      <td>bd8aca0f-81f3-560c-a1ca-20fbefd4af67</td>\n",
       "      <td>https://static01.nyt.com/images/2017/07/19/sci...</td>\n",
       "      <td>A meteor from the Geminids streaking between t...</td>\n",
       "      <td>bd8aca0f-81f3-560c-a1ca-20fbefd4af67</td>\n",
       "      <td>Demo_data/D1_imgs/1bd8aca0f-81f3-560c-a1ca-20f...</td>\n",
       "      <td>2</td>\n",
       "      <td>4</td>\n",
       "    </tr>\n",
       "    <tr>\n",
       "      <th>197</th>\n",
       "      <td>Opinion</td>\n",
       "      <td>The Justice Department's Shameful Rush to Fede...</td>\n",
       "      <td>https://www.nytimes.com/2020/07/17/opinion/jus...</td>\n",
       "      <td>Early on Tuesday morning, while much of the co...</td>\n",
       "      <td>The push to impose the federal death penalty n...</td>\n",
       "      <td>5da51505-585c-5c01-8f29-d78297ac0aa4</td>\n",
       "      <td>https://static01.nyt.com/images/2020/07/16/opi...</td>\n",
       "      <td>The execution chamber in the U.S. Penitentiary...</td>\n",
       "      <td>5da51505-585c-5c01-8f29-d78297ac0aa4</td>\n",
       "      <td>Demo_data/D1_imgs/15da51505-585c-5c01-8f29-d78...</td>\n",
       "      <td>11</td>\n",
       "      <td>1</td>\n",
       "    </tr>\n",
       "    <tr>\n",
       "      <th>198</th>\n",
       "      <td>Style</td>\n",
       "      <td>How Do You Dress a Russian Doll?</td>\n",
       "      <td>https://www.nytimes.com/2019/02/14/style/russi...</td>\n",
       "      <td>What would you wear if you could attend your o...</td>\n",
       "      <td>Glumly, it seems, but that hasn't stopped styl...</td>\n",
       "      <td>8a5113f7-3a30-56c0-99b2-ab36e31c6c1f</td>\n",
       "      <td>https://static01.nyt.com/images/2019/02/14/fas...</td>\n",
       "      <td>Rebecca Henderson and Greta Lee in the Netflix...</td>\n",
       "      <td>8a5113f7-3a30-56c0-99b2-ab36e31c6c1f</td>\n",
       "      <td>Demo_data/D1_imgs/18a5113f7-3a30-56c0-99b2-ab3...</td>\n",
       "      <td>15</td>\n",
       "      <td>15</td>\n",
       "    </tr>\n",
       "    <tr>\n",
       "      <th>199</th>\n",
       "      <td>Art &amp; Design</td>\n",
       "      <td>Mary Boone, Art Dealer, Cites Early Trauma in ...</td>\n",
       "      <td>https://www.nytimes.com/2019/01/08/arts/design...</td>\n",
       "      <td>Lawyers for Mary Boone, the veteran art dealer...</td>\n",
       "      <td>The New York gallerist faces a possible prison...</td>\n",
       "      <td>77b9c4c7-5e9e-555b-9d91-633eafc02ae7</td>\n",
       "      <td>https://static01.nyt.com/images/2019/01/09/art...</td>\n",
       "      <td>Mary Boone in 2016. Lawyers for the art dealer...</td>\n",
       "      <td>77b9c4c7-5e9e-555b-9d91-633eafc02ae7</td>\n",
       "      <td>Demo_data/D1_imgs/177b9c4c7-5e9e-555b-9d91-633...</td>\n",
       "      <td>14</td>\n",
       "      <td>12</td>\n",
       "    </tr>\n",
       "  </tbody>\n",
       "</table>\n",
       "<p>200 rows × 12 columns</p>\n",
       "</div>"
      ],
      "text/plain": [
       "             section                                           headline  \\\n",
       "0    Fashion & Style           On This Runway, Non-Models and Cool Kids   \n",
       "1            Theater  The New 42nd Street, a Theater Nonprofit, Name...   \n",
       "2            Economy                  Tax Tactics Threaten Public Funds   \n",
       "3         Television  Review: 'The Chi' Returns to the South Side of...   \n",
       "4            Opinion      Banks Should Face History and Pay Reparations   \n",
       "..               ...                                                ...   \n",
       "195      Automobiles                       Wheelies: The Ram On Edition   \n",
       "196          Science  Geminids Meteor Shower 2020: Watch It Peak in ...   \n",
       "197          Opinion  The Justice Department's Shameful Rush to Fede...   \n",
       "198            Style                   How Do You Dress a Russian Doll?   \n",
       "199     Art & Design  Mary Boone, Art Dealer, Cites Early Trauma in ...   \n",
       "\n",
       "                                           article_url  \\\n",
       "0    https://www.nytimes.com/2016/09/10/fashion/eck...   \n",
       "1    https://www.nytimes.com/2019/06/11/theater/new...   \n",
       "2    https://www.nytimes.com/2014/10/02/business/ec...   \n",
       "3    https://www.nytimes.com/2019/04/05/arts/televi...   \n",
       "4    https://www.nytimes.com/2020/06/26/opinion/sun...   \n",
       "..                                                 ...   \n",
       "195  https://www.nytimes.com/2014/02/05/automobiles...   \n",
       "196  https://www.nytimes.com/2020/12/13/science/gem...   \n",
       "197  https://www.nytimes.com/2020/07/17/opinion/jus...   \n",
       "198  https://www.nytimes.com/2019/02/14/style/russi...   \n",
       "199  https://www.nytimes.com/2019/01/08/arts/design...   \n",
       "\n",
       "                                               article  \\\n",
       "0    Over Labor Day weekend, a steady stream of hop...   \n",
       "1    The New 42nd Street -- the nonprofit organizat...   \n",
       "2    When the European Commission charged this week...   \n",
       "3    \"The Chi\" was built around a series of shootin...   \n",
       "4    Ms. Blackwell is founder in residence at Polic...   \n",
       "..                                                 ...   \n",
       "195  A roundup of motoring news from the web:\\n\\n# ...   \n",
       "196  All year long as Earth revolves around the sun...   \n",
       "197  Early on Tuesday morning, while much of the co...   \n",
       "198  What would you wear if you could attend your o...   \n",
       "199  Lawyers for Mary Boone, the veteran art dealer...   \n",
       "\n",
       "                                              abstract  \\\n",
       "0    How the Eckhaus Latta designers select fashion...   \n",
       "1    Russell Granet will be the new president and c...   \n",
       "2    If global corporations can continue to evade t...   \n",
       "3    Lena Waithe's neighborhood drama on Showtime d...   \n",
       "4    The financial industry can close the wealth ga...   \n",
       "..                                                 ...   \n",
       "195  Chrysler executives consider opening a third f...   \n",
       "196  Meteor showers can light up night skies from d...   \n",
       "197  The push to impose the federal death penalty n...   \n",
       "198  Glumly, it seems, but that hasn't stopped styl...   \n",
       "199  The New York gallerist faces a possible prison...   \n",
       "\n",
       "                               article_id  \\\n",
       "0    e9cd6477-5eb6-58b2-8e33-fd2d881bf656   \n",
       "1    acdcd1ef-71a9-55f2-9993-7a231d57396f   \n",
       "2    1de5c156-9cea-5971-9fdf-b6a4ce9bf35c   \n",
       "3    7bb11a9c-2f6d-57f9-bb36-db7f00f59589   \n",
       "4    165426ae-1e7c-5193-8596-ef96357645a8   \n",
       "..                                    ...   \n",
       "195  ad722160-9bde-5350-abf3-a636bc1b6c22   \n",
       "196  bd8aca0f-81f3-560c-a1ca-20fbefd4af67   \n",
       "197  5da51505-585c-5c01-8f29-d78297ac0aa4   \n",
       "198  8a5113f7-3a30-56c0-99b2-ab36e31c6c1f   \n",
       "199  77b9c4c7-5e9e-555b-9d91-633eafc02ae7   \n",
       "\n",
       "                                                 image  \\\n",
       "0    https://static01.nyt.com/images/2016/09/10/fas...   \n",
       "1    https://static01.nyt.com/images/2019/06/11/art...   \n",
       "2    https://static01.nyt.com/images/2012/02/29/bus...   \n",
       "3    https://static01.nyt.com/images/2019/04/05/art...   \n",
       "4    https://static01.nyt.com/images/2020/06/25/opi...   \n",
       "..                                                 ...   \n",
       "195  https://static01.nyt.com/images/2014/02/04/aut...   \n",
       "196  https://static01.nyt.com/images/2017/07/19/sci...   \n",
       "197  https://static01.nyt.com/images/2020/07/16/opi...   \n",
       "198  https://static01.nyt.com/images/2019/02/14/fas...   \n",
       "199  https://static01.nyt.com/images/2019/01/09/art...   \n",
       "\n",
       "                                               caption  \\\n",
       "0    Mike Eckhaus, center right, and Zoe Latta, cen...   \n",
       "1    The New 42nd Street board chairwoman, Fiona Ru...   \n",
       "2                                       Eduardo Porter   \n",
       "3    Alex Hibbert as Kevin in \"The Chi,\" a sprawlin...   \n",
       "4    A Wells Fargo bank in Minneapolis was set on f...   \n",
       "..                                                 ...   \n",
       "195                                      The Ram 1500.   \n",
       "196  A meteor from the Geminids streaking between t...   \n",
       "197  The execution chamber in the U.S. Penitentiary...   \n",
       "198  Rebecca Henderson and Greta Lee in the Netflix...   \n",
       "199  Mary Boone in 2016. Lawyers for the art dealer...   \n",
       "\n",
       "                                 image_id  \\\n",
       "0    e9cd6477-5eb6-58b2-8e33-fd2d881bf656   \n",
       "1    acdcd1ef-71a9-55f2-9993-7a231d57396f   \n",
       "2    1de5c156-9cea-5971-9fdf-b6a4ce9bf35c   \n",
       "3    7bb11a9c-2f6d-57f9-bb36-db7f00f59589   \n",
       "4    165426ae-1e7c-5193-8596-ef96357645a8   \n",
       "..                                    ...   \n",
       "195  ad722160-9bde-5350-abf3-a636bc1b6c22   \n",
       "196  bd8aca0f-81f3-560c-a1ca-20fbefd4af67   \n",
       "197  5da51505-585c-5c01-8f29-d78297ac0aa4   \n",
       "198  8a5113f7-3a30-56c0-99b2-ab36e31c6c1f   \n",
       "199  77b9c4c7-5e9e-555b-9d91-633eafc02ae7   \n",
       "\n",
       "                                            image_path  section_numeric  \\\n",
       "0    Demo_data/D1_imgs/1e9cd6477-5eb6-58b2-8e33-fd2...               19   \n",
       "1    Demo_data/D1_imgs/1acdcd1ef-71a9-55f2-9993-7a2...               10   \n",
       "2    Demo_data/D1_imgs/11de5c156-9cea-5971-9fdf-b6a...                8   \n",
       "3    Demo_data/D1_imgs/17bb11a9c-2f6d-57f9-bb36-db7...                3   \n",
       "4    Demo_data/D1_imgs/1165426ae-1e7c-5193-8596-ef9...               11   \n",
       "..                                                 ...              ...   \n",
       "195  Demo_data/D1_imgs/1ad722160-9bde-5350-abf3-a63...               23   \n",
       "196  Demo_data/D1_imgs/1bd8aca0f-81f3-560c-a1ca-20f...                2   \n",
       "197  Demo_data/D1_imgs/15da51505-585c-5c01-8f29-d78...               11   \n",
       "198  Demo_data/D1_imgs/18a5113f7-3a30-56c0-99b2-ab3...               15   \n",
       "199  Demo_data/D1_imgs/177b9c4c7-5e9e-555b-9d91-633...               14   \n",
       "\n",
       "     D1b_CLIP_inital_labeling  \n",
       "0                          11  \n",
       "1                          21  \n",
       "2                          13  \n",
       "3                           3  \n",
       "4                          12  \n",
       "..                        ...  \n",
       "195                        23  \n",
       "196                         4  \n",
       "197                         1  \n",
       "198                        15  \n",
       "199                        12  \n",
       "\n",
       "[200 rows x 12 columns]"
      ]
     },
     "execution_count": 9,
     "metadata": {},
     "output_type": "execute_result"
    }
   ],
   "source": [
    "D1b_CLIP_inital_labeling"
   ]
  },
  {
   "cell_type": "code",
   "execution_count": 10,
   "id": "engaged-being",
   "metadata": {},
   "outputs": [
    {
     "name": "stdout",
     "output_type": "stream",
     "text": [
      "\n",
      "== Verification of 'D1b_CLIP_inital_labeling' vs. 'section_numeric' ==\n",
      "Accuracy:   38.00%\n",
      "Macro F1:   33.23%\n",
      "Micro  F1:  38.00%\n",
      "\n",
      "Full classification report:\n",
      "              precision    recall  f1-score   support\n",
      "\n",
      "           1       0.57      0.31      0.40        13\n",
      "           2       0.56      0.45      0.50        11\n",
      "           3       0.67      0.50      0.57        12\n",
      "           4       0.50      0.11      0.18         9\n",
      "           5       0.00      0.00      0.00         6\n",
      "           6       1.00      0.67      0.80         9\n",
      "           7       0.50      0.50      0.50         2\n",
      "           8       0.14      0.20      0.17         5\n",
      "           9       0.71      0.56      0.62         9\n",
      "          10       0.33      0.45      0.38        11\n",
      "          11       0.11      0.50      0.18        14\n",
      "          12       0.40      0.60      0.48        10\n",
      "          13       0.30      0.33      0.32         9\n",
      "          14       0.75      0.33      0.46        18\n",
      "          15       0.25      0.14      0.18         7\n",
      "          16       0.00      0.00      0.00         7\n",
      "          17       0.67      0.44      0.53         9\n",
      "          18       0.00      0.00      0.00         2\n",
      "          19       0.60      0.46      0.52        13\n",
      "          20       0.00      0.00      0.00         8\n",
      "          21       0.00      0.00      0.00         1\n",
      "          22       0.40      0.67      0.50         3\n",
      "          23       0.70      0.64      0.67        11\n",
      "          24       0.00      0.00      0.00         1\n",
      "\n",
      "    accuracy                           0.38       200\n",
      "   macro avg       0.38      0.33      0.33       200\n",
      "weighted avg       0.47      0.38      0.39       200\n",
      "\n",
      "\n",
      "Confusion matrix:\n",
      "[[4 2 0 0 0 0 0 0 0 0 5 0 0 0 0 0 0 0 0 0 0 2 0 0]\n",
      " [0 5 0 1 0 0 0 0 0 0 5 0 0 0 0 0 0 0 0 0 0 0 0 0]\n",
      " [0 0 6 0 1 0 0 0 0 2 3 0 0 0 0 0 0 0 0 0 0 0 0 0]\n",
      " [0 0 0 1 0 0 1 0 0 0 5 0 0 0 0 0 1 0 1 0 0 0 0 0]\n",
      " [0 1 1 0 0 0 0 0 0 0 2 1 0 0 1 0 0 0 0 0 0 0 0 0]\n",
      " [0 0 0 0 0 6 0 0 0 3 0 0 0 0 0 0 0 0 0 0 0 0 0 0]\n",
      " [0 0 0 0 0 0 1 0 0 0 1 0 0 0 0 0 0 0 0 0 0 0 0 0]\n",
      " [0 0 0 0 0 0 0 1 0 1 2 0 1 0 0 0 0 0 0 0 0 0 0 0]\n",
      " [0 0 0 0 0 0 0 0 5 0 3 0 0 0 0 0 0 0 0 0 0 0 1 0]\n",
      " [0 0 0 0 0 0 0 0 0 5 2 1 0 1 0 0 0 0 1 0 1 0 0 0]\n",
      " [2 0 0 0 0 0 0 1 0 0 7 2 0 0 0 0 0 0 0 0 1 0 1 0]\n",
      " [0 0 0 0 0 0 0 0 0 2 2 6 0 0 0 0 0 0 0 0 0 0 0 0]\n",
      " [0 0 0 0 0 0 0 0 1 2 2 0 3 0 1 0 0 0 0 0 0 0 0 0]\n",
      " [0 0 1 0 0 0 0 0 1 0 6 1 1 6 0 0 0 0 0 0 2 0 0 0]\n",
      " [0 0 0 0 0 0 0 1 0 0 2 2 0 0 1 0 0 0 1 0 0 0 0 0]\n",
      " [0 0 0 0 0 0 0 0 0 0 4 1 1 0 0 0 0 0 1 0 0 0 0 0]\n",
      " [0 1 0 0 0 0 0 1 0 0 1 0 1 0 0 0 4 0 0 0 0 1 0 0]\n",
      " [1 0 0 0 0 0 0 0 0 0 1 0 0 0 0 0 0 0 0 0 0 0 0 0]\n",
      " [0 0 1 0 0 0 0 0 0 0 2 1 1 1 1 0 0 0 6 0 0 0 0 0]\n",
      " [0 0 0 0 0 0 0 2 0 0 3 0 1 0 0 1 0 0 0 0 0 0 1 0]\n",
      " [0 0 0 0 0 0 0 0 0 0 0 0 1 0 0 0 0 0 0 0 0 0 0 0]\n",
      " [0 0 0 0 0 0 0 0 0 0 1 0 0 0 0 0 0 0 0 0 0 2 0 0]\n",
      " [0 0 0 0 0 0 0 0 0 0 3 0 0 0 0 0 1 0 0 0 0 0 7 0]\n",
      " [0 0 0 0 0 0 0 1 0 0 0 0 0 0 0 0 0 0 0 0 0 0 0 0]]\n",
      "\n",
      ">> Overall accuracy: 38.00%\n"
     ]
    }
   ],
   "source": [
    "## Check the accuracy: CLIP initial labeling\n",
    "auto_verification(\n",
    "    D1b_CLIP_inital_labeling,\n",
    "    predicted_cols=\"D1b_CLIP_inital_labeling\",\n",
    "    true_cols=\"section_numeric\",\n",
    "    category=category_D1_CLIP\n",
    ");"
   ]
  },
  {
   "cell_type": "markdown",
   "id": "5e24ec41-2205-4dcc-9e50-d29c5aa5b08b",
   "metadata": {},
   "source": [
    "### finetune: CLIP"
   ]
  },
  {
   "cell_type": "code",
   "execution_count": 11,
   "id": "returning-indian",
   "metadata": {},
   "outputs": [
    {
     "name": "stdout",
     "output_type": "stream",
     "text": [
      "Loaded 200 records\n",
      "Number of classes: 24\n",
      "Use text: False, Use image: True\n",
      "Text columns: ['headline']\n",
      "Label column: section_numeric\n",
      "Training set class distribution: section_numeric\n",
      "14    17\n",
      "1     12\n",
      "3     11\n",
      "10    10\n",
      "19    10\n",
      "6      9\n",
      "11     9\n",
      "12     9\n",
      "9      8\n",
      "13     8\n",
      "23     8\n",
      "4      7\n",
      "5      6\n",
      "2      6\n",
      "16     6\n",
      "17     6\n",
      "15     4\n",
      "20     4\n",
      "8      3\n",
      "22     3\n",
      "7      2\n",
      "18     1\n",
      "21     1\n",
      "Name: count, dtype: int64\n",
      "Validation set class distribution: section_numeric\n",
      "2     5\n",
      "11    5\n",
      "20    4\n",
      "23    3\n",
      "15    3\n",
      "19    3\n",
      "17    3\n",
      "8     2\n",
      "4     2\n",
      "18    1\n",
      "24    1\n",
      "12    1\n",
      "13    1\n",
      "1     1\n",
      "10    1\n",
      "3     1\n",
      "9     1\n",
      "16    1\n",
      "14    1\n",
      "Name: count, dtype: int64\n"
     ]
    },
    {
     "name": "stderr",
     "output_type": "stream",
     "text": [
      "Epoch 1/20 [Train]:  50%|█████     | 10/20 [00:04<00:03,  2.56it/s]"
     ]
    },
    {
     "name": "stdout",
     "output_type": "stream",
     "text": [
      "Batch 10/20: Loss: 3.1574 | Acc: 5.00%\n"
     ]
    },
    {
     "name": "stderr",
     "output_type": "stream",
     "text": [
      "Epoch 1/20 [Train]: 100%|██████████| 20/20 [00:08<00:00,  2.46it/s]\n"
     ]
    },
    {
     "name": "stdout",
     "output_type": "stream",
     "text": [
      "Batch 20/20: Loss: 3.1665 | Acc: 6.25%\n"
     ]
    },
    {
     "name": "stderr",
     "output_type": "stream",
     "text": [
      "Epoch 1/20 [Val]: 100%|██████████| 5/5 [00:00<00:00,  6.59it/s]\n"
     ]
    },
    {
     "name": "stdout",
     "output_type": "stream",
     "text": [
      "Epoch 1/20: Train Loss: 3.1679 | Train Acc: 6.25% | Val Loss: 3.1639 | Val Acc: 2.50%\n",
      "Model saved! Best validation accuracy: 2.50%\n"
     ]
    },
    {
     "name": "stderr",
     "output_type": "stream",
     "text": [
      "Epoch 2/20 [Train]:  50%|█████     | 10/20 [00:03<00:04,  2.46it/s]"
     ]
    },
    {
     "name": "stdout",
     "output_type": "stream",
     "text": [
      "Batch 10/20: Loss: 3.0831 | Acc: 15.00%\n"
     ]
    },
    {
     "name": "stderr",
     "output_type": "stream",
     "text": [
      "Epoch 2/20 [Train]: 100%|██████████| 20/20 [00:07<00:00,  2.52it/s]\n"
     ]
    },
    {
     "name": "stdout",
     "output_type": "stream",
     "text": [
      "Batch 20/20: Loss: 3.0814 | Acc: 18.12%\n"
     ]
    },
    {
     "name": "stderr",
     "output_type": "stream",
     "text": [
      "Epoch 2/20 [Val]: 100%|██████████| 5/5 [00:00<00:00,  6.45it/s]\n"
     ]
    },
    {
     "name": "stdout",
     "output_type": "stream",
     "text": [
      "Epoch 2/20: Train Loss: 3.1053 | Train Acc: 18.12% | Val Loss: 3.1501 | Val Acc: 7.50%\n",
      "Model saved! Best validation accuracy: 7.50%\n"
     ]
    },
    {
     "name": "stderr",
     "output_type": "stream",
     "text": [
      "Epoch 3/20 [Train]:  50%|█████     | 10/20 [00:03<00:04,  2.49it/s]"
     ]
    },
    {
     "name": "stdout",
     "output_type": "stream",
     "text": [
      "Batch 10/20: Loss: 3.0438 | Acc: 35.00%\n"
     ]
    },
    {
     "name": "stderr",
     "output_type": "stream",
     "text": [
      "Epoch 3/20 [Train]: 100%|██████████| 20/20 [00:07<00:00,  2.54it/s]\n"
     ]
    },
    {
     "name": "stdout",
     "output_type": "stream",
     "text": [
      "Batch 20/20: Loss: 3.0102 | Acc: 38.75%\n"
     ]
    },
    {
     "name": "stderr",
     "output_type": "stream",
     "text": [
      "Epoch 3/20 [Val]: 100%|██████████| 5/5 [00:00<00:00,  6.89it/s]\n"
     ]
    },
    {
     "name": "stdout",
     "output_type": "stream",
     "text": [
      "Epoch 3/20: Train Loss: 3.0483 | Train Acc: 38.75% | Val Loss: 3.1474 | Val Acc: 7.50%\n"
     ]
    },
    {
     "name": "stderr",
     "output_type": "stream",
     "text": [
      "Epoch 4/20 [Train]:  50%|█████     | 10/20 [00:03<00:03,  2.57it/s]"
     ]
    },
    {
     "name": "stdout",
     "output_type": "stream",
     "text": [
      "Batch 10/20: Loss: 3.0022 | Acc: 70.00%\n"
     ]
    },
    {
     "name": "stderr",
     "output_type": "stream",
     "text": [
      "Epoch 4/20 [Train]: 100%|██████████| 20/20 [00:07<00:00,  2.57it/s]\n"
     ]
    },
    {
     "name": "stdout",
     "output_type": "stream",
     "text": [
      "Batch 20/20: Loss: 2.9848 | Acc: 72.50%\n"
     ]
    },
    {
     "name": "stderr",
     "output_type": "stream",
     "text": [
      "Epoch 4/20 [Val]: 100%|██████████| 5/5 [00:00<00:00,  6.22it/s]\n"
     ]
    },
    {
     "name": "stdout",
     "output_type": "stream",
     "text": [
      "Epoch 4/20: Train Loss: 2.9902 | Train Acc: 72.50% | Val Loss: 3.1343 | Val Acc: 15.00%\n",
      "Model saved! Best validation accuracy: 15.00%\n"
     ]
    },
    {
     "name": "stderr",
     "output_type": "stream",
     "text": [
      "Epoch 5/20 [Train]:  50%|█████     | 10/20 [00:03<00:03,  2.53it/s]"
     ]
    },
    {
     "name": "stdout",
     "output_type": "stream",
     "text": [
      "Batch 10/20: Loss: 2.9651 | Acc: 91.25%\n"
     ]
    },
    {
     "name": "stderr",
     "output_type": "stream",
     "text": [
      "Epoch 5/20 [Train]: 100%|██████████| 20/20 [00:07<00:00,  2.52it/s]\n"
     ]
    },
    {
     "name": "stdout",
     "output_type": "stream",
     "text": [
      "Batch 20/20: Loss: 2.9143 | Acc: 94.38%\n"
     ]
    },
    {
     "name": "stderr",
     "output_type": "stream",
     "text": [
      "Epoch 5/20 [Val]: 100%|██████████| 5/5 [00:00<00:00,  6.29it/s]\n"
     ]
    },
    {
     "name": "stdout",
     "output_type": "stream",
     "text": [
      "Epoch 5/20: Train Loss: 2.9376 | Train Acc: 94.38% | Val Loss: 3.1197 | Val Acc: 22.50%\n",
      "Model saved! Best validation accuracy: 22.50%\n"
     ]
    },
    {
     "name": "stderr",
     "output_type": "stream",
     "text": [
      "Epoch 6/20 [Train]:  50%|█████     | 10/20 [00:03<00:04,  2.49it/s]"
     ]
    },
    {
     "name": "stdout",
     "output_type": "stream",
     "text": [
      "Batch 10/20: Loss: 2.8814 | Acc: 97.50%\n"
     ]
    },
    {
     "name": "stderr",
     "output_type": "stream",
     "text": [
      "Epoch 6/20 [Train]: 100%|██████████| 20/20 [00:08<00:00,  2.48it/s]\n"
     ]
    },
    {
     "name": "stdout",
     "output_type": "stream",
     "text": [
      "Batch 20/20: Loss: 2.8843 | Acc: 98.12%\n"
     ]
    },
    {
     "name": "stderr",
     "output_type": "stream",
     "text": [
      "Epoch 6/20 [Val]: 100%|██████████| 5/5 [00:00<00:00,  6.33it/s]\n"
     ]
    },
    {
     "name": "stdout",
     "output_type": "stream",
     "text": [
      "Epoch 6/20: Train Loss: 2.8817 | Train Acc: 98.12% | Val Loss: 3.1112 | Val Acc: 25.00%\n",
      "Model saved! Best validation accuracy: 25.00%\n"
     ]
    },
    {
     "name": "stderr",
     "output_type": "stream",
     "text": [
      "Epoch 7/20 [Train]:  50%|█████     | 10/20 [00:03<00:04,  2.49it/s]"
     ]
    },
    {
     "name": "stdout",
     "output_type": "stream",
     "text": [
      "Batch 10/20: Loss: 2.8403 | Acc: 100.00%\n"
     ]
    },
    {
     "name": "stderr",
     "output_type": "stream",
     "text": [
      "Epoch 7/20 [Train]: 100%|██████████| 20/20 [00:07<00:00,  2.53it/s]\n"
     ]
    },
    {
     "name": "stdout",
     "output_type": "stream",
     "text": [
      "Batch 20/20: Loss: 2.7928 | Acc: 100.00%\n"
     ]
    },
    {
     "name": "stderr",
     "output_type": "stream",
     "text": [
      "Epoch 7/20 [Val]: 100%|██████████| 5/5 [00:00<00:00,  6.03it/s]\n"
     ]
    },
    {
     "name": "stdout",
     "output_type": "stream",
     "text": [
      "Epoch 7/20: Train Loss: 2.8294 | Train Acc: 100.00% | Val Loss: 3.0985 | Val Acc: 30.00%\n",
      "Model saved! Best validation accuracy: 30.00%\n"
     ]
    },
    {
     "name": "stderr",
     "output_type": "stream",
     "text": [
      "Epoch 8/20 [Train]:  50%|█████     | 10/20 [00:03<00:03,  2.55it/s]"
     ]
    },
    {
     "name": "stdout",
     "output_type": "stream",
     "text": [
      "Batch 10/20: Loss: 2.7944 | Acc: 100.00%\n"
     ]
    },
    {
     "name": "stderr",
     "output_type": "stream",
     "text": [
      "Epoch 8/20 [Train]: 100%|██████████| 20/20 [00:08<00:00,  2.45it/s]\n"
     ]
    },
    {
     "name": "stdout",
     "output_type": "stream",
     "text": [
      "Batch 20/20: Loss: 2.7671 | Acc: 100.00%\n"
     ]
    },
    {
     "name": "stderr",
     "output_type": "stream",
     "text": [
      "Epoch 8/20 [Val]: 100%|██████████| 5/5 [00:00<00:00,  6.21it/s]\n"
     ]
    },
    {
     "name": "stdout",
     "output_type": "stream",
     "text": [
      "Epoch 8/20: Train Loss: 2.7910 | Train Acc: 100.00% | Val Loss: 3.0964 | Val Acc: 27.50%\n"
     ]
    },
    {
     "name": "stderr",
     "output_type": "stream",
     "text": [
      "Epoch 9/20 [Train]:  50%|█████     | 10/20 [00:04<00:03,  2.56it/s]"
     ]
    },
    {
     "name": "stdout",
     "output_type": "stream",
     "text": [
      "Batch 10/20: Loss: 2.7645 | Acc: 100.00%\n"
     ]
    },
    {
     "name": "stderr",
     "output_type": "stream",
     "text": [
      "Epoch 9/20 [Train]: 100%|██████████| 20/20 [00:08<00:00,  2.44it/s]\n"
     ]
    },
    {
     "name": "stdout",
     "output_type": "stream",
     "text": [
      "Batch 20/20: Loss: 2.7845 | Acc: 100.00%\n"
     ]
    },
    {
     "name": "stderr",
     "output_type": "stream",
     "text": [
      "Epoch 9/20 [Val]: 100%|██████████| 5/5 [00:00<00:00,  6.01it/s]\n"
     ]
    },
    {
     "name": "stdout",
     "output_type": "stream",
     "text": [
      "Epoch 9/20: Train Loss: 2.7556 | Train Acc: 100.00% | Val Loss: 3.0901 | Val Acc: 30.00%\n"
     ]
    },
    {
     "name": "stderr",
     "output_type": "stream",
     "text": [
      "Epoch 10/20 [Train]:  50%|█████     | 10/20 [00:04<00:05,  1.99it/s]"
     ]
    },
    {
     "name": "stdout",
     "output_type": "stream",
     "text": [
      "Batch 10/20: Loss: 2.7221 | Acc: 100.00%\n"
     ]
    },
    {
     "name": "stderr",
     "output_type": "stream",
     "text": [
      "Epoch 10/20 [Train]: 100%|██████████| 20/20 [00:08<00:00,  2.34it/s]\n"
     ]
    },
    {
     "name": "stdout",
     "output_type": "stream",
     "text": [
      "Batch 20/20: Loss: 2.7074 | Acc: 100.00%\n"
     ]
    },
    {
     "name": "stderr",
     "output_type": "stream",
     "text": [
      "Epoch 10/20 [Val]: 100%|██████████| 5/5 [00:00<00:00,  7.02it/s]\n"
     ]
    },
    {
     "name": "stdout",
     "output_type": "stream",
     "text": [
      "Epoch 10/20: Train Loss: 2.7316 | Train Acc: 100.00% | Val Loss: 3.0841 | Val Acc: 30.00%\n"
     ]
    },
    {
     "name": "stderr",
     "output_type": "stream",
     "text": [
      "Epoch 11/20 [Train]:  50%|█████     | 10/20 [00:03<00:03,  2.61it/s]"
     ]
    },
    {
     "name": "stdout",
     "output_type": "stream",
     "text": [
      "Batch 10/20: Loss: 2.7089 | Acc: 100.00%\n"
     ]
    },
    {
     "name": "stderr",
     "output_type": "stream",
     "text": [
      "Epoch 11/20 [Train]: 100%|██████████| 20/20 [00:07<00:00,  2.55it/s]\n"
     ]
    },
    {
     "name": "stdout",
     "output_type": "stream",
     "text": [
      "Batch 20/20: Loss: 2.6935 | Acc: 100.00%\n"
     ]
    },
    {
     "name": "stderr",
     "output_type": "stream",
     "text": [
      "Epoch 11/20 [Val]: 100%|██████████| 5/5 [00:00<00:00,  6.97it/s]\n"
     ]
    },
    {
     "name": "stdout",
     "output_type": "stream",
     "text": [
      "Epoch 11/20: Train Loss: 2.7053 | Train Acc: 100.00% | Val Loss: 3.0835 | Val Acc: 32.50%\n",
      "Model saved! Best validation accuracy: 32.50%\n"
     ]
    },
    {
     "name": "stderr",
     "output_type": "stream",
     "text": [
      "Epoch 12/20 [Train]:  50%|█████     | 10/20 [00:04<00:04,  2.47it/s]"
     ]
    },
    {
     "name": "stdout",
     "output_type": "stream",
     "text": [
      "Batch 10/20: Loss: 2.6981 | Acc: 100.00%\n"
     ]
    },
    {
     "name": "stderr",
     "output_type": "stream",
     "text": [
      "Epoch 12/20 [Train]: 100%|██████████| 20/20 [00:08<00:00,  2.44it/s]\n"
     ]
    },
    {
     "name": "stdout",
     "output_type": "stream",
     "text": [
      "Batch 20/20: Loss: 2.6815 | Acc: 100.00%\n"
     ]
    },
    {
     "name": "stderr",
     "output_type": "stream",
     "text": [
      "Epoch 12/20 [Val]: 100%|██████████| 5/5 [00:00<00:00,  5.97it/s]\n"
     ]
    },
    {
     "name": "stdout",
     "output_type": "stream",
     "text": [
      "Epoch 12/20: Train Loss: 2.6881 | Train Acc: 100.00% | Val Loss: 3.0787 | Val Acc: 32.50%\n"
     ]
    },
    {
     "name": "stderr",
     "output_type": "stream",
     "text": [
      "Epoch 13/20 [Train]:  50%|█████     | 10/20 [00:03<00:04,  2.49it/s]"
     ]
    },
    {
     "name": "stdout",
     "output_type": "stream",
     "text": [
      "Batch 10/20: Loss: 2.6447 | Acc: 100.00%\n"
     ]
    },
    {
     "name": "stderr",
     "output_type": "stream",
     "text": [
      "Epoch 13/20 [Train]: 100%|██████████| 20/20 [00:07<00:00,  2.55it/s]\n"
     ]
    },
    {
     "name": "stdout",
     "output_type": "stream",
     "text": [
      "Batch 20/20: Loss: 2.6850 | Acc: 100.00%\n"
     ]
    },
    {
     "name": "stderr",
     "output_type": "stream",
     "text": [
      "Epoch 13/20 [Val]: 100%|██████████| 5/5 [00:00<00:00,  6.74it/s]\n"
     ]
    },
    {
     "name": "stdout",
     "output_type": "stream",
     "text": [
      "Epoch 13/20: Train Loss: 2.6719 | Train Acc: 100.00% | Val Loss: 3.0790 | Val Acc: 30.00%\n"
     ]
    },
    {
     "name": "stderr",
     "output_type": "stream",
     "text": [
      "Epoch 14/20 [Train]:  50%|█████     | 10/20 [00:03<00:03,  2.62it/s]"
     ]
    },
    {
     "name": "stdout",
     "output_type": "stream",
     "text": [
      "Batch 10/20: Loss: 2.6638 | Acc: 100.00%\n"
     ]
    },
    {
     "name": "stderr",
     "output_type": "stream",
     "text": [
      "Epoch 14/20 [Train]: 100%|██████████| 20/20 [00:07<00:00,  2.54it/s]\n"
     ]
    },
    {
     "name": "stdout",
     "output_type": "stream",
     "text": [
      "Batch 20/20: Loss: 2.6602 | Acc: 100.00%\n"
     ]
    },
    {
     "name": "stderr",
     "output_type": "stream",
     "text": [
      "Epoch 14/20 [Val]: 100%|██████████| 5/5 [00:00<00:00,  6.24it/s]\n"
     ]
    },
    {
     "name": "stdout",
     "output_type": "stream",
     "text": [
      "Epoch 14/20: Train Loss: 2.6606 | Train Acc: 100.00% | Val Loss: 3.0746 | Val Acc: 35.00%\n",
      "Model saved! Best validation accuracy: 35.00%\n"
     ]
    },
    {
     "name": "stderr",
     "output_type": "stream",
     "text": [
      "Epoch 15/20 [Train]:  50%|█████     | 10/20 [00:03<00:03,  2.64it/s]"
     ]
    },
    {
     "name": "stdout",
     "output_type": "stream",
     "text": [
      "Batch 10/20: Loss: 2.6382 | Acc: 100.00%\n"
     ]
    },
    {
     "name": "stderr",
     "output_type": "stream",
     "text": [
      "Epoch 15/20 [Train]: 100%|██████████| 20/20 [00:07<00:00,  2.61it/s]\n"
     ]
    },
    {
     "name": "stdout",
     "output_type": "stream",
     "text": [
      "Batch 20/20: Loss: 2.6430 | Acc: 100.00%\n"
     ]
    },
    {
     "name": "stderr",
     "output_type": "stream",
     "text": [
      "Epoch 15/20 [Val]: 100%|██████████| 5/5 [00:00<00:00,  7.28it/s]\n"
     ]
    },
    {
     "name": "stdout",
     "output_type": "stream",
     "text": [
      "Epoch 15/20: Train Loss: 2.6483 | Train Acc: 100.00% | Val Loss: 3.0775 | Val Acc: 30.00%\n"
     ]
    },
    {
     "name": "stderr",
     "output_type": "stream",
     "text": [
      "Epoch 16/20 [Train]:  50%|█████     | 10/20 [00:04<00:04,  2.43it/s]"
     ]
    },
    {
     "name": "stdout",
     "output_type": "stream",
     "text": [
      "Batch 10/20: Loss: 2.6377 | Acc: 100.00%\n"
     ]
    },
    {
     "name": "stderr",
     "output_type": "stream",
     "text": [
      "Epoch 16/20 [Train]: 100%|██████████| 20/20 [00:08<00:00,  2.43it/s]\n"
     ]
    },
    {
     "name": "stdout",
     "output_type": "stream",
     "text": [
      "Batch 20/20: Loss: 2.6420 | Acc: 100.00%\n"
     ]
    },
    {
     "name": "stderr",
     "output_type": "stream",
     "text": [
      "Epoch 16/20 [Val]: 100%|██████████| 5/5 [00:00<00:00,  6.04it/s]\n"
     ]
    },
    {
     "name": "stdout",
     "output_type": "stream",
     "text": [
      "Epoch 16/20: Train Loss: 2.6442 | Train Acc: 100.00% | Val Loss: 3.0732 | Val Acc: 32.50%\n"
     ]
    },
    {
     "name": "stderr",
     "output_type": "stream",
     "text": [
      "Epoch 17/20 [Train]:  50%|█████     | 10/20 [00:03<00:04,  2.45it/s]"
     ]
    },
    {
     "name": "stdout",
     "output_type": "stream",
     "text": [
      "Batch 10/20: Loss: 2.6404 | Acc: 100.00%\n"
     ]
    },
    {
     "name": "stderr",
     "output_type": "stream",
     "text": [
      "Epoch 17/20 [Train]: 100%|██████████| 20/20 [00:08<00:00,  2.44it/s]\n"
     ]
    },
    {
     "name": "stdout",
     "output_type": "stream",
     "text": [
      "Batch 20/20: Loss: 2.6613 | Acc: 100.00%\n"
     ]
    },
    {
     "name": "stderr",
     "output_type": "stream",
     "text": [
      "Epoch 17/20 [Val]: 100%|██████████| 5/5 [00:00<00:00,  5.42it/s]\n"
     ]
    },
    {
     "name": "stdout",
     "output_type": "stream",
     "text": [
      "Epoch 17/20: Train Loss: 2.6391 | Train Acc: 100.00% | Val Loss: 3.0754 | Val Acc: 30.00%\n"
     ]
    },
    {
     "name": "stderr",
     "output_type": "stream",
     "text": [
      "Epoch 18/20 [Train]:  50%|█████     | 10/20 [00:04<00:04,  2.26it/s]"
     ]
    },
    {
     "name": "stdout",
     "output_type": "stream",
     "text": [
      "Batch 10/20: Loss: 2.6214 | Acc: 100.00%\n"
     ]
    },
    {
     "name": "stderr",
     "output_type": "stream",
     "text": [
      "Epoch 18/20 [Train]: 100%|██████████| 20/20 [00:08<00:00,  2.41it/s]\n"
     ]
    },
    {
     "name": "stdout",
     "output_type": "stream",
     "text": [
      "Batch 20/20: Loss: 2.6403 | Acc: 100.00%\n"
     ]
    },
    {
     "name": "stderr",
     "output_type": "stream",
     "text": [
      "Epoch 18/20 [Val]: 100%|██████████| 5/5 [00:00<00:00,  6.20it/s]\n"
     ]
    },
    {
     "name": "stdout",
     "output_type": "stream",
     "text": [
      "Epoch 18/20: Train Loss: 2.6338 | Train Acc: 100.00% | Val Loss: 3.0733 | Val Acc: 30.00%\n"
     ]
    },
    {
     "name": "stderr",
     "output_type": "stream",
     "text": [
      "Epoch 19/20 [Train]:  50%|█████     | 10/20 [00:03<00:04,  2.44it/s]"
     ]
    },
    {
     "name": "stdout",
     "output_type": "stream",
     "text": [
      "Batch 10/20: Loss: 2.6029 | Acc: 100.00%\n"
     ]
    },
    {
     "name": "stderr",
     "output_type": "stream",
     "text": [
      "Epoch 19/20 [Train]: 100%|██████████| 20/20 [00:07<00:00,  2.51it/s]\n"
     ]
    },
    {
     "name": "stdout",
     "output_type": "stream",
     "text": [
      "Batch 20/20: Loss: 2.6425 | Acc: 100.00%\n"
     ]
    },
    {
     "name": "stderr",
     "output_type": "stream",
     "text": [
      "Epoch 19/20 [Val]: 100%|██████████| 5/5 [00:00<00:00,  6.61it/s]\n"
     ]
    },
    {
     "name": "stdout",
     "output_type": "stream",
     "text": [
      "Epoch 19/20: Train Loss: 2.6287 | Train Acc: 100.00% | Val Loss: 3.0684 | Val Acc: 32.50%\n"
     ]
    },
    {
     "name": "stderr",
     "output_type": "stream",
     "text": [
      "Epoch 20/20 [Train]:  50%|█████     | 10/20 [00:03<00:04,  2.50it/s]"
     ]
    },
    {
     "name": "stdout",
     "output_type": "stream",
     "text": [
      "Batch 10/20: Loss: 2.6148 | Acc: 100.00%\n"
     ]
    },
    {
     "name": "stderr",
     "output_type": "stream",
     "text": [
      "Epoch 20/20 [Train]: 100%|██████████| 20/20 [00:07<00:00,  2.55it/s]\n"
     ]
    },
    {
     "name": "stdout",
     "output_type": "stream",
     "text": [
      "Batch 20/20: Loss: 2.6011 | Acc: 100.00%\n"
     ]
    },
    {
     "name": "stderr",
     "output_type": "stream",
     "text": [
      "Epoch 20/20 [Val]: 100%|██████████| 5/5 [00:00<00:00,  6.99it/s]"
     ]
    },
    {
     "name": "stdout",
     "output_type": "stream",
     "text": [
      "Epoch 20/20: Train Loss: 2.6234 | Train Acc: 100.00% | Val Loss: 3.0733 | Val Acc: 32.50%\n",
      "Fine-tuning complete! Best validation accuracy: 35.00%\n"
     ]
    },
    {
     "name": "stderr",
     "output_type": "stream",
     "text": [
      "\n"
     ]
    },
    {
     "data": {
      "text/plain": [
       "35.0"
      ]
     },
     "execution_count": 11,
     "metadata": {},
     "output_type": "execute_result"
    }
   ],
   "source": [
    "finetune_CLIP(\n",
    "    mode=\"image\",\n",
    "    text_path=\"Demo_result/D1b_CLIP_inital_labeling.csv\",\n",
    "    img_dir=\"Demo_data/D1_imgs_1\",\n",
    "    true_label=\"section_numeric\",\n",
    "    model_name=\"Demo_finetuned_CLIP/D1a_CLIP_model_finetuned.pth\",\n",
    "    num_epochs=20,\n",
    "    batch_size=8,\n",
    "    learning_rate=1e-5,\n",
    ")\n"
   ]
  },
  {
   "cell_type": "code",
   "execution_count": 12,
   "id": "elder-ceramic",
   "metadata": {},
   "outputs": [
    {
     "name": "stdout",
     "output_type": "stream",
     "text": [
      "200 pieces of data loaded\n"
     ]
    },
    {
     "name": "stderr",
     "output_type": "stream",
     "text": [
      "predicting: 100%|██████████| 25/25 [00:04<00:00,  5.81it/s]\n"
     ]
    },
    {
     "name": "stdout",
     "output_type": "stream",
     "text": [
      "Labeling completed!\n"
     ]
    }
   ],
   "source": [
    "# Classify with a fine‑tuned model\n",
    "D1b_CLIP_finetuned = classification_CLIP_finetuned(\n",
    "    mode=\"image\",\n",
    "    text_path=\"Demo_data/D1_2.csv\",\n",
    "    img_dir=\"Demo_data/D1_imgs_2\",\n",
    "    model_name=\"Demo_finetuned_CLIP/D1a_CLIP_model_finetuned.pth\",\n",
    "    predict_column=\"D1b_CLIP_finetuned\",\n",
    ")\n",
    "\n",
    "D1b_CLIP_finetuned.to_csv(\"Demo_result/D1b_CLIP_finetuned.csv\", index=False)"
   ]
  },
  {
   "cell_type": "code",
   "execution_count": 13,
   "id": "pleased-healthcare",
   "metadata": {},
   "outputs": [
    {
     "name": "stdout",
     "output_type": "stream",
     "text": [
      "\n",
      "== Verification of 'D1b_CLIP_finetuned' vs. 'section_numeric' ==\n",
      "Accuracy:   28.50%\n",
      "Macro F1:   22.57%\n",
      "Micro  F1:  28.50%\n",
      "\n",
      "Full classification report:\n",
      "              precision    recall  f1-score   support\n",
      "\n",
      "           1       0.26      0.79      0.39        14\n",
      "           2       0.50      0.14      0.22         7\n",
      "           3       0.35      0.47      0.40        17\n",
      "           4       0.16      0.60      0.25         5\n",
      "           5       0.00      0.00      0.00         4\n",
      "           6       0.67      0.75      0.71         8\n",
      "           7       0.00      0.00      0.00        15\n",
      "           8       0.50      0.14      0.22         7\n",
      "           9       0.50      0.17      0.25         6\n",
      "          10       0.00      0.00      0.00        13\n",
      "          11       0.20      0.30      0.24        10\n",
      "          12       0.33      0.18      0.24        11\n",
      "          13       0.56      0.42      0.48        12\n",
      "          14       0.09      0.18      0.12        11\n",
      "          15       0.00      0.00      0.00         9\n",
      "          16       0.00      0.00      0.00        11\n",
      "          17       0.83      0.91      0.87        11\n",
      "          19       0.06      0.17      0.09         6\n",
      "          20       0.00      0.00      0.00        11\n",
      "          21       0.00      0.00      0.00         5\n",
      "          22       0.00      0.00      0.00         3\n",
      "          23       0.38      0.75      0.50         4\n",
      "\n",
      "    accuracy                           0.28       200\n",
      "   macro avg       0.24      0.27      0.23       200\n",
      "weighted avg       0.25      0.28      0.24       200\n",
      "\n",
      "\n",
      "Confusion matrix:\n",
      "[[11  0  0  0  0  0  0  0  0  0  0  0  0  0  0  0  1  1  0  0  0  1]\n",
      " [ 4  1  1  0  0  0  1  0  0  0  0  0  0  0  0  0  0  0  0  0  0  0]\n",
      " [ 0  0  8  1  0  0  0  0  0  0  1  2  0  4  0  0  0  1  0  0  0  0]\n",
      " [ 0  0  1  3  0  0  0  0  0  0  0  0  0  1  0  0  0  0  0  0  0  0]\n",
      " [ 1  0  0  2  0  0  0  0  0  0  0  0  1  0  0  0  0  0  0  0  0  0]\n",
      " [ 1  0  0  0  0  6  0  0  0  0  0  0  0  0  0  0  0  1  0  0  0  0]\n",
      " [ 1  0  1  8  0  0  0  0  0  0  0  0  0  1  0  0  1  1  0  0  0  2]\n",
      " [ 2  1  1  0  0  0  0  1  0  0  0  0  0  0  0  0  0  1  0  0  0  1]\n",
      " [ 1  0  0  1  0  0  0  0  1  0  2  0  0  0  0  1  0  0  0  0  0  0]\n",
      " [ 3  0  3  0  0  2  0  0  0  0  1  1  0  0  0  1  0  2  0  0  0  0]\n",
      " [ 2  0  2  0  0  0  0  0  1  1  3  0  0  1  0  0  0  0  0  0  0  0]\n",
      " [ 0  0  2  1  0  0  0  0  0  1  1  2  0  2  0  0  0  2  0  0  0  0]\n",
      " [ 1  0  1  0  1  0  0  0  0  0  1  1  5  2  0  0  0  0  0  0  0  0]\n",
      " [ 2  0  0  2  0  0  0  1  0  0  1  0  1  2  0  0  0  2  0  0  0  0]\n",
      " [ 4  0  1  0  0  0  0  0  0  0  0  0  0  1  0  1  0  2  0  0  0  0]\n",
      " [ 2  0  1  0  0  1  0  0  0  0  1  0  2  2  0  0  0  2  0  0  0  0]\n",
      " [ 0  0  0  0  0  0  0  0  0  0  0  0  0  1  0  0 10  0  0  0  0  0]\n",
      " [ 0  0  0  0  0  0  0  0  0  0  2  0  0  3  0  0  0  1  0  0  0  0]\n",
      " [ 4  0  1  0  1  0  0  0  0  0  2  0  0  2  0  0  0  0  0  0  0  1]\n",
      " [ 1  0  0  1  0  0  0  0  0  2  0  0  0  1  0  0  0  0  0  0  0  0]\n",
      " [ 3  0  0  0  0  0  0  0  0  0  0  0  0  0  0  0  0  0  0  0  0  0]\n",
      " [ 0  0  0  0  1  0  0  0  0  0  0  0  0  0  0  0  0  0  0  0  0  3]]\n",
      "\n",
      ">> Overall accuracy: 28.50%\n"
     ]
    }
   ],
   "source": [
    "## Check the accuracy: CLIP after finetune\n",
    "# Merge the Demo_result of the image with the human label\n",
    "auto_verification(\n",
    "    D1b_CLIP_finetuned,\n",
    "    predicted_cols=\"D1b_CLIP_finetuned\",\n",
    "    true_cols=\"section_numeric\",\n",
    "    category=category_D1_CLIP\n",
    ")"
   ]
  },
  {
   "cell_type": "markdown",
   "id": "square-fisher",
   "metadata": {},
   "source": [
    "# Demo 1c: Classify single-category text + image data\n",
    "\n",
    "**Datasets:**\n",
    "- `D1_1.csv`: Used for initial labeling and fine-tuning.\n",
    "- `D1_imgs_1`: Used for initial labeling and fine-tuning.\n",
    "\n",
    "- `D1_2.csv`: Used for testing the fine-tuned model's performance.\n",
    "- `D1_imgs_2`: Used for testing the fine-tuned model's performance.\n",
    "\n",
    "\n",
    "The text dataset should contain a column `image_path` to map the images for each row."
   ]
  },
  {
   "cell_type": "markdown",
   "id": "seeing-sender",
   "metadata": {},
   "source": [
    "## CLIP: local labeling"
   ]
  },
  {
   "cell_type": "code",
   "execution_count": 14,
   "id": "educated-connecticut",
   "metadata": {},
   "outputs": [
    {
     "name": "stdout",
     "output_type": "stream",
     "text": [
      "Loaded 200 records\n"
     ]
    },
    {
     "name": "stderr",
     "output_type": "stream",
     "text": [
      "Predicting: 100%|██████████| 200/200 [00:12<00:00, 15.66it/s]\n"
     ]
    }
   ],
   "source": [
    "D1c_CLIP_inital_labeling = classification_CLIP_0_shot(\n",
    "    text_path=\"Demo_data/D1_1.csv\",\n",
    "    img_dir=\"Demo_data/D1_imgs_1\",\n",
    "    mode=\"both\",\n",
    "    prompt=prompt_D1_CLIP,\n",
    "    text_column=[\"headline\", \"abstract\"],\n",
    "    predict_column=\"D1c_CLIP_inital_labeling\",\n",
    ")\n",
    "\n",
    "D1c_CLIP_inital_labeling.to_csv(\"Demo_result/D1c_CLIP_inital_labeling.csv\", index=False)"
   ]
  },
  {
   "cell_type": "code",
   "execution_count": 15,
   "id": "structural-sewing",
   "metadata": {},
   "outputs": [
    {
     "name": "stdout",
     "output_type": "stream",
     "text": [
      "\n",
      "== Verification of 'D1c_CLIP_inital_labeling' vs. 'section_numeric' ==\n",
      "Accuracy:   57.00%\n",
      "Macro F1:   48.48%\n",
      "Micro  F1:  57.00%\n",
      "\n",
      "Full classification report:\n",
      "              precision    recall  f1-score   support\n",
      "\n",
      "           1       0.50      0.38      0.43        13\n",
      "           2       0.83      0.45      0.59        11\n",
      "           3       0.75      0.75      0.75        12\n",
      "           4       0.57      0.44      0.50         9\n",
      "           5       1.00      0.17      0.29         6\n",
      "           6       1.00      0.56      0.71         9\n",
      "           7       0.33      1.00      0.50         2\n",
      "           8       0.67      0.40      0.50         5\n",
      "           9       0.83      0.56      0.67         9\n",
      "          10       0.38      0.91      0.54        11\n",
      "          11       0.31      0.36      0.33        14\n",
      "          12       0.56      0.50      0.53        10\n",
      "          13       0.64      0.78      0.70         9\n",
      "          14       0.83      0.56      0.67        18\n",
      "          15       0.50      0.14      0.22         7\n",
      "          16       0.00      0.00      0.00         7\n",
      "          17       0.89      0.89      0.89         9\n",
      "          18       0.00      0.00      0.00         2\n",
      "          19       0.64      0.69      0.67        13\n",
      "          20       0.26      0.88      0.40         8\n",
      "          21       0.00      0.00      0.00         1\n",
      "          22       0.60      1.00      0.75         3\n",
      "          23       1.00      1.00      1.00        11\n",
      "          24       0.00      0.00      0.00         1\n",
      "\n",
      "    accuracy                           0.57       200\n",
      "   macro avg       0.55      0.52      0.48       200\n",
      "weighted avg       0.63      0.57      0.56       200\n",
      "\n",
      "\n",
      "Confusion matrix:\n",
      "[[ 5  0  0  0  0  0  0  0  0  0  2  0  0  0  0  0  0  0  0  5  0  1  0  0]\n",
      " [ 0  5  0  2  0  0  0  0  0  0  2  0  0  0  0  0  0  0  0  2  0  0  0  0]\n",
      " [ 0  0  9  0  0  0  0  0  0  2  0  0  1  0  0  0  0  0  0  0  0  0  0  0]\n",
      " [ 0  0  1  4  0  0  1  0  0  0  0  0  0  0  0  0  1  0  1  1  0  0  0  0]\n",
      " [ 0  1  1  0  1  0  0  0  0  1  0  1  0  0  1  0  0  0  0  0  0  0  0  0]\n",
      " [ 0  0  0  0  0  5  0  0  0  4  0  0  0  0  0  0  0  0  0  0  0  0  0  0]\n",
      " [ 0  0  0  0  0  0  2  0  0  0  0  0  0  0  0  0  0  0  0  0  0  0  0  0]\n",
      " [ 0  0  0  0  0  0  1  2  0  0  0  0  0  0  0  0  0  0  0  2  0  0  0  0]\n",
      " [ 0  0  0  1  0  0  0  0  5  0  1  0  0  0  0  0  0  0  0  2  0  0  0  0]\n",
      " [ 0  0  0  0  0  0  0  0  0 10  0  0  0  0  0  0  0  0  0  1  0  0  0  0]\n",
      " [ 4  0  0  0  0  0  0  0  0  0  5  1  0  0  0  0  0  0  0  2  1  1  0  0]\n",
      " [ 0  0  0  0  0  0  0  0  0  5  0  5  0  0  0  0  0  0  0  0  0  0  0  0]\n",
      " [ 0  0  0  0  0  0  0  0  0  0  1  0  7  0  0  0  0  0  0  1  0  0  0  0]\n",
      " [ 0  0  0  0  0  0  0  0  1  2  0  0  2 10  0  0  0  0  1  2  0  0  0  0]\n",
      " [ 0  0  0  0  0  0  0  0  0  1  0  1  0  0  1  0  0  0  2  1  1  0  0  0]\n",
      " [ 0  0  1  0  0  0  0  0  0  0  4  0  0  0  0  0  0  0  1  1  0  0  0  0]\n",
      " [ 0  0  0  0  0  0  1  0  0  0  0  0  0  0  0  0  8  0  0  0  0  0  0  0]\n",
      " [ 1  0  0  0  0  0  0  0  0  0  0  0  0  1  0  0  0  0  0  0  0  0  0  0]\n",
      " [ 0  0  0  0  0  0  0  0  0  1  0  1  1  1  0  0  0  0  9  0  0  0  0  0]\n",
      " [ 0  0  0  0  0  0  0  0  0  0  1  0  0  0  0  0  0  0  0  7  0  0  0  0]\n",
      " [ 0  0  0  0  0  0  1  0  0  0  0  0  0  0  0  0  0  0  0  0  0  0  0  0]\n",
      " [ 0  0  0  0  0  0  0  0  0  0  0  0  0  0  0  0  0  0  0  0  0  3  0  0]\n",
      " [ 0  0  0  0  0  0  0  0  0  0  0  0  0  0  0  0  0  0  0  0  0  0 11  0]\n",
      " [ 0  0  0  0  0  0  0  1  0  0  0  0  0  0  0  0  0  0  0  0  0  0  0  0]]\n",
      "\n",
      ">> Overall accuracy: 57.00%\n"
     ]
    }
   ],
   "source": [
    "## Check the accuracy: CLIP initial labeling\n",
    "auto_verification(\n",
    "    D1c_CLIP_inital_labeling,\n",
    "    predicted_cols=\"D1c_CLIP_inital_labeling\",\n",
    "    true_cols=\"section_numeric\",\n",
    "    category=category_D1_CLIP\n",
    ");"
   ]
  },
  {
   "cell_type": "markdown",
   "id": "34c8f93a-a358-4abd-ba60-68739d6048a7",
   "metadata": {},
   "source": [
    "### finetune: CLIP"
   ]
  },
  {
   "cell_type": "code",
   "execution_count": 16,
   "id": "swedish-celebration",
   "metadata": {},
   "outputs": [
    {
     "name": "stdout",
     "output_type": "stream",
     "text": [
      "Loaded 200 records\n",
      "Number of classes: 24\n",
      "Use text: True, Use image: True\n",
      "Text columns: ['headline', 'abstract']\n",
      "Label column: section_numeric\n",
      "Training set class distribution: section_numeric\n",
      "14    17\n",
      "1     12\n",
      "3     11\n",
      "10    10\n",
      "19    10\n",
      "6      9\n",
      "11     9\n",
      "12     9\n",
      "9      8\n",
      "13     8\n",
      "23     8\n",
      "4      7\n",
      "5      6\n",
      "2      6\n",
      "16     6\n",
      "17     6\n",
      "15     4\n",
      "20     4\n",
      "8      3\n",
      "22     3\n",
      "7      2\n",
      "18     1\n",
      "21     1\n",
      "Name: count, dtype: int64\n",
      "Validation set class distribution: section_numeric\n",
      "2     5\n",
      "11    5\n",
      "20    4\n",
      "23    3\n",
      "15    3\n",
      "19    3\n",
      "17    3\n",
      "8     2\n",
      "4     2\n",
      "18    1\n",
      "24    1\n",
      "12    1\n",
      "13    1\n",
      "1     1\n",
      "10    1\n",
      "3     1\n",
      "9     1\n",
      "16    1\n",
      "14    1\n",
      "Name: count, dtype: int64\n"
     ]
    },
    {
     "name": "stderr",
     "output_type": "stream",
     "text": [
      "Epoch 1/20 [Train]:  50%|█████     | 10/20 [00:06<00:06,  1.59it/s]"
     ]
    },
    {
     "name": "stdout",
     "output_type": "stream",
     "text": [
      "Batch 10/20: Loss: 3.1790 | Acc: 3.75%\n"
     ]
    },
    {
     "name": "stderr",
     "output_type": "stream",
     "text": [
      "Epoch 1/20 [Train]: 100%|██████████| 20/20 [00:13<00:00,  1.54it/s]\n"
     ]
    },
    {
     "name": "stdout",
     "output_type": "stream",
     "text": [
      "Batch 20/20: Loss: 3.1692 | Acc: 5.00%\n"
     ]
    },
    {
     "name": "stderr",
     "output_type": "stream",
     "text": [
      "Epoch 1/20 [Val]: 100%|██████████| 5/5 [00:01<00:00,  4.84it/s]\n"
     ]
    },
    {
     "name": "stdout",
     "output_type": "stream",
     "text": [
      "Epoch 1/20: Train Loss: 3.1738 | Train Acc: 5.00% | Val Loss: 3.1644 | Val Acc: 5.00%\n",
      "Model saved! Best validation accuracy: 5.00%\n"
     ]
    },
    {
     "name": "stderr",
     "output_type": "stream",
     "text": [
      "Epoch 2/20 [Train]:  50%|█████     | 10/20 [00:06<00:06,  1.62it/s]"
     ]
    },
    {
     "name": "stdout",
     "output_type": "stream",
     "text": [
      "Batch 10/20: Loss: 3.0665 | Acc: 37.50%\n"
     ]
    },
    {
     "name": "stderr",
     "output_type": "stream",
     "text": [
      "Epoch 2/20 [Train]: 100%|██████████| 20/20 [00:12<00:00,  1.61it/s]\n"
     ]
    },
    {
     "name": "stdout",
     "output_type": "stream",
     "text": [
      "Batch 20/20: Loss: 3.1040 | Acc: 35.62%\n"
     ]
    },
    {
     "name": "stderr",
     "output_type": "stream",
     "text": [
      "Epoch 2/20 [Val]: 100%|██████████| 5/5 [00:01<00:00,  4.47it/s]\n"
     ]
    },
    {
     "name": "stdout",
     "output_type": "stream",
     "text": [
      "Epoch 2/20: Train Loss: 3.0850 | Train Acc: 35.62% | Val Loss: 3.1488 | Val Acc: 5.00%\n"
     ]
    },
    {
     "name": "stderr",
     "output_type": "stream",
     "text": [
      "Epoch 3/20 [Train]:  50%|█████     | 10/20 [00:07<00:06,  1.43it/s]"
     ]
    },
    {
     "name": "stdout",
     "output_type": "stream",
     "text": [
      "Batch 10/20: Loss: 2.9648 | Acc: 73.75%\n"
     ]
    },
    {
     "name": "stderr",
     "output_type": "stream",
     "text": [
      "Epoch 3/20 [Train]: 100%|██████████| 20/20 [00:13<00:00,  1.43it/s]\n"
     ]
    },
    {
     "name": "stdout",
     "output_type": "stream",
     "text": [
      "Batch 20/20: Loss: 2.9657 | Acc: 73.75%\n"
     ]
    },
    {
     "name": "stderr",
     "output_type": "stream",
     "text": [
      "Epoch 3/20 [Val]: 100%|██████████| 5/5 [00:01<00:00,  4.61it/s]\n"
     ]
    },
    {
     "name": "stdout",
     "output_type": "stream",
     "text": [
      "Epoch 3/20: Train Loss: 3.0011 | Train Acc: 73.75% | Val Loss: 3.1175 | Val Acc: 17.50%\n",
      "Model saved! Best validation accuracy: 17.50%\n"
     ]
    },
    {
     "name": "stderr",
     "output_type": "stream",
     "text": [
      "Epoch 4/20 [Train]:  50%|█████     | 10/20 [00:06<00:06,  1.56it/s]"
     ]
    },
    {
     "name": "stdout",
     "output_type": "stream",
     "text": [
      "Batch 10/20: Loss: 2.8944 | Acc: 93.75%\n"
     ]
    },
    {
     "name": "stderr",
     "output_type": "stream",
     "text": [
      "Epoch 4/20 [Train]: 100%|██████████| 20/20 [00:12<00:00,  1.58it/s]\n"
     ]
    },
    {
     "name": "stdout",
     "output_type": "stream",
     "text": [
      "Batch 20/20: Loss: 2.9210 | Acc: 96.88%\n"
     ]
    },
    {
     "name": "stderr",
     "output_type": "stream",
     "text": [
      "Epoch 4/20 [Val]: 100%|██████████| 5/5 [00:01<00:00,  4.92it/s]\n"
     ]
    },
    {
     "name": "stdout",
     "output_type": "stream",
     "text": [
      "Epoch 4/20: Train Loss: 2.9147 | Train Acc: 96.88% | Val Loss: 3.0891 | Val Acc: 32.50%\n",
      "Model saved! Best validation accuracy: 32.50%\n"
     ]
    },
    {
     "name": "stderr",
     "output_type": "stream",
     "text": [
      "Epoch 5/20 [Train]:  50%|█████     | 10/20 [00:06<00:06,  1.63it/s]"
     ]
    },
    {
     "name": "stdout",
     "output_type": "stream",
     "text": [
      "Batch 10/20: Loss: 2.8935 | Acc: 100.00%\n"
     ]
    },
    {
     "name": "stderr",
     "output_type": "stream",
     "text": [
      "Epoch 5/20 [Train]: 100%|██████████| 20/20 [00:12<00:00,  1.61it/s]\n"
     ]
    },
    {
     "name": "stdout",
     "output_type": "stream",
     "text": [
      "Batch 20/20: Loss: 2.8425 | Acc: 100.00%\n"
     ]
    },
    {
     "name": "stderr",
     "output_type": "stream",
     "text": [
      "Epoch 5/20 [Val]: 100%|██████████| 5/5 [00:01<00:00,  4.74it/s]\n"
     ]
    },
    {
     "name": "stdout",
     "output_type": "stream",
     "text": [
      "Epoch 5/20: Train Loss: 2.8392 | Train Acc: 100.00% | Val Loss: 3.0712 | Val Acc: 37.50%\n",
      "Model saved! Best validation accuracy: 37.50%\n"
     ]
    },
    {
     "name": "stderr",
     "output_type": "stream",
     "text": [
      "Epoch 6/20 [Train]:  50%|█████     | 10/20 [00:06<00:06,  1.58it/s]"
     ]
    },
    {
     "name": "stdout",
     "output_type": "stream",
     "text": [
      "Batch 10/20: Loss: 2.7686 | Acc: 100.00%\n"
     ]
    },
    {
     "name": "stderr",
     "output_type": "stream",
     "text": [
      "Epoch 6/20 [Train]: 100%|██████████| 20/20 [00:12<00:00,  1.56it/s]\n"
     ]
    },
    {
     "name": "stdout",
     "output_type": "stream",
     "text": [
      "Batch 20/20: Loss: 2.7646 | Acc: 100.00%\n"
     ]
    },
    {
     "name": "stderr",
     "output_type": "stream",
     "text": [
      "Epoch 6/20 [Val]: 100%|██████████| 5/5 [00:01<00:00,  4.63it/s]\n"
     ]
    },
    {
     "name": "stdout",
     "output_type": "stream",
     "text": [
      "Epoch 6/20: Train Loss: 2.7851 | Train Acc: 100.00% | Val Loss: 3.0476 | Val Acc: 45.00%\n",
      "Model saved! Best validation accuracy: 45.00%\n"
     ]
    },
    {
     "name": "stderr",
     "output_type": "stream",
     "text": [
      "Epoch 7/20 [Train]:  50%|█████     | 10/20 [00:06<00:06,  1.44it/s]"
     ]
    },
    {
     "name": "stdout",
     "output_type": "stream",
     "text": [
      "Batch 10/20: Loss: 2.7638 | Acc: 100.00%\n"
     ]
    },
    {
     "name": "stderr",
     "output_type": "stream",
     "text": [
      "Epoch 7/20 [Train]: 100%|██████████| 20/20 [00:13<00:00,  1.49it/s]\n"
     ]
    },
    {
     "name": "stdout",
     "output_type": "stream",
     "text": [
      "Batch 20/20: Loss: 2.7583 | Acc: 100.00%\n"
     ]
    },
    {
     "name": "stderr",
     "output_type": "stream",
     "text": [
      "Epoch 7/20 [Val]: 100%|██████████| 5/5 [00:01<00:00,  4.40it/s]\n"
     ]
    },
    {
     "name": "stdout",
     "output_type": "stream",
     "text": [
      "Epoch 7/20: Train Loss: 2.7429 | Train Acc: 100.00% | Val Loss: 3.0345 | Val Acc: 47.50%\n",
      "Model saved! Best validation accuracy: 47.50%\n"
     ]
    },
    {
     "name": "stderr",
     "output_type": "stream",
     "text": [
      "Epoch 8/20 [Train]:  50%|█████     | 10/20 [00:06<00:06,  1.49it/s]"
     ]
    },
    {
     "name": "stdout",
     "output_type": "stream",
     "text": [
      "Batch 10/20: Loss: 2.6878 | Acc: 100.00%\n"
     ]
    },
    {
     "name": "stderr",
     "output_type": "stream",
     "text": [
      "Epoch 8/20 [Train]: 100%|██████████| 20/20 [00:13<00:00,  1.53it/s]\n"
     ]
    },
    {
     "name": "stdout",
     "output_type": "stream",
     "text": [
      "Batch 20/20: Loss: 2.7144 | Acc: 100.00%\n"
     ]
    },
    {
     "name": "stderr",
     "output_type": "stream",
     "text": [
      "Epoch 8/20 [Val]: 100%|██████████| 5/5 [00:01<00:00,  4.78it/s]\n"
     ]
    },
    {
     "name": "stdout",
     "output_type": "stream",
     "text": [
      "Epoch 8/20: Train Loss: 2.7130 | Train Acc: 100.00% | Val Loss: 3.0190 | Val Acc: 47.50%\n"
     ]
    },
    {
     "name": "stderr",
     "output_type": "stream",
     "text": [
      "Epoch 9/20 [Train]:  50%|█████     | 10/20 [00:06<00:06,  1.54it/s]"
     ]
    },
    {
     "name": "stdout",
     "output_type": "stream",
     "text": [
      "Batch 10/20: Loss: 2.7138 | Acc: 100.00%\n"
     ]
    },
    {
     "name": "stderr",
     "output_type": "stream",
     "text": [
      "Epoch 9/20 [Train]: 100%|██████████| 20/20 [00:12<00:00,  1.57it/s]\n"
     ]
    },
    {
     "name": "stdout",
     "output_type": "stream",
     "text": [
      "Batch 20/20: Loss: 2.6597 | Acc: 100.00%\n"
     ]
    },
    {
     "name": "stderr",
     "output_type": "stream",
     "text": [
      "Epoch 9/20 [Val]: 100%|██████████| 5/5 [00:01<00:00,  4.91it/s]\n"
     ]
    },
    {
     "name": "stdout",
     "output_type": "stream",
     "text": [
      "Epoch 9/20: Train Loss: 2.6942 | Train Acc: 100.00% | Val Loss: 3.0088 | Val Acc: 50.00%\n",
      "Model saved! Best validation accuracy: 50.00%\n"
     ]
    },
    {
     "name": "stderr",
     "output_type": "stream",
     "text": [
      "Epoch 10/20 [Train]:  50%|█████     | 10/20 [00:06<00:06,  1.59it/s]"
     ]
    },
    {
     "name": "stdout",
     "output_type": "stream",
     "text": [
      "Batch 10/20: Loss: 2.6798 | Acc: 100.00%\n"
     ]
    },
    {
     "name": "stderr",
     "output_type": "stream",
     "text": [
      "Epoch 10/20 [Train]: 100%|██████████| 20/20 [00:12<00:00,  1.57it/s]\n"
     ]
    },
    {
     "name": "stdout",
     "output_type": "stream",
     "text": [
      "Batch 20/20: Loss: 2.6708 | Acc: 100.00%\n"
     ]
    },
    {
     "name": "stderr",
     "output_type": "stream",
     "text": [
      "Epoch 10/20 [Val]: 100%|██████████| 5/5 [00:01<00:00,  3.56it/s]\n"
     ]
    },
    {
     "name": "stdout",
     "output_type": "stream",
     "text": [
      "Epoch 10/20: Train Loss: 2.6755 | Train Acc: 100.00% | Val Loss: 3.0014 | Val Acc: 55.00%\n",
      "Model saved! Best validation accuracy: 55.00%\n"
     ]
    },
    {
     "name": "stderr",
     "output_type": "stream",
     "text": [
      "Epoch 11/20 [Train]:  50%|█████     | 10/20 [00:06<00:06,  1.46it/s]"
     ]
    },
    {
     "name": "stdout",
     "output_type": "stream",
     "text": [
      "Batch 10/20: Loss: 2.6767 | Acc: 100.00%\n"
     ]
    },
    {
     "name": "stderr",
     "output_type": "stream",
     "text": [
      "Epoch 11/20 [Train]: 100%|██████████| 20/20 [00:13<00:00,  1.49it/s]\n"
     ]
    },
    {
     "name": "stdout",
     "output_type": "stream",
     "text": [
      "Batch 20/20: Loss: 2.6780 | Acc: 100.00%\n"
     ]
    },
    {
     "name": "stderr",
     "output_type": "stream",
     "text": [
      "Epoch 11/20 [Val]: 100%|██████████| 5/5 [00:01<00:00,  3.97it/s]\n"
     ]
    },
    {
     "name": "stdout",
     "output_type": "stream",
     "text": [
      "Epoch 11/20: Train Loss: 2.6622 | Train Acc: 100.00% | Val Loss: 2.9931 | Val Acc: 50.00%\n"
     ]
    },
    {
     "name": "stderr",
     "output_type": "stream",
     "text": [
      "Epoch 12/20 [Train]:  50%|█████     | 10/20 [00:07<00:06,  1.46it/s]"
     ]
    },
    {
     "name": "stdout",
     "output_type": "stream",
     "text": [
      "Batch 10/20: Loss: 2.6333 | Acc: 100.00%\n"
     ]
    },
    {
     "name": "stderr",
     "output_type": "stream",
     "text": [
      "Epoch 12/20 [Train]: 100%|██████████| 20/20 [00:14<00:00,  1.39it/s]\n"
     ]
    },
    {
     "name": "stdout",
     "output_type": "stream",
     "text": [
      "Batch 20/20: Loss: 2.6545 | Acc: 100.00%\n"
     ]
    },
    {
     "name": "stderr",
     "output_type": "stream",
     "text": [
      "Epoch 12/20 [Val]: 100%|██████████| 5/5 [00:01<00:00,  3.56it/s]\n"
     ]
    },
    {
     "name": "stdout",
     "output_type": "stream",
     "text": [
      "Epoch 12/20: Train Loss: 2.6517 | Train Acc: 100.00% | Val Loss: 2.9872 | Val Acc: 52.50%\n"
     ]
    },
    {
     "name": "stderr",
     "output_type": "stream",
     "text": [
      "Epoch 13/20 [Train]:  50%|█████     | 10/20 [00:07<00:07,  1.30it/s]"
     ]
    },
    {
     "name": "stdout",
     "output_type": "stream",
     "text": [
      "Batch 10/20: Loss: 2.6790 | Acc: 100.00%\n"
     ]
    },
    {
     "name": "stderr",
     "output_type": "stream",
     "text": [
      "Epoch 13/20 [Train]: 100%|██████████| 20/20 [00:14<00:00,  1.35it/s]\n"
     ]
    },
    {
     "name": "stdout",
     "output_type": "stream",
     "text": [
      "Batch 20/20: Loss: 2.6241 | Acc: 100.00%\n"
     ]
    },
    {
     "name": "stderr",
     "output_type": "stream",
     "text": [
      "Epoch 13/20 [Val]: 100%|██████████| 5/5 [00:01<00:00,  4.36it/s]\n"
     ]
    },
    {
     "name": "stdout",
     "output_type": "stream",
     "text": [
      "Epoch 13/20: Train Loss: 2.6442 | Train Acc: 100.00% | Val Loss: 2.9829 | Val Acc: 50.00%\n"
     ]
    },
    {
     "name": "stderr",
     "output_type": "stream",
     "text": [
      "Epoch 14/20 [Train]:  50%|█████     | 10/20 [00:07<00:08,  1.20it/s]"
     ]
    },
    {
     "name": "stdout",
     "output_type": "stream",
     "text": [
      "Batch 10/20: Loss: 2.6530 | Acc: 100.00%\n"
     ]
    },
    {
     "name": "stderr",
     "output_type": "stream",
     "text": [
      "Epoch 14/20 [Train]: 100%|██████████| 20/20 [00:14<00:00,  1.34it/s]\n"
     ]
    },
    {
     "name": "stdout",
     "output_type": "stream",
     "text": [
      "Batch 20/20: Loss: 2.6224 | Acc: 100.00%\n"
     ]
    },
    {
     "name": "stderr",
     "output_type": "stream",
     "text": [
      "Epoch 14/20 [Val]: 100%|██████████| 5/5 [00:01<00:00,  4.72it/s]\n"
     ]
    },
    {
     "name": "stdout",
     "output_type": "stream",
     "text": [
      "Epoch 14/20: Train Loss: 2.6367 | Train Acc: 100.00% | Val Loss: 2.9738 | Val Acc: 52.50%\n"
     ]
    },
    {
     "name": "stderr",
     "output_type": "stream",
     "text": [
      "Epoch 15/20 [Train]:  50%|█████     | 10/20 [00:06<00:07,  1.41it/s]"
     ]
    },
    {
     "name": "stdout",
     "output_type": "stream",
     "text": [
      "Batch 10/20: Loss: 2.6199 | Acc: 100.00%\n"
     ]
    },
    {
     "name": "stderr",
     "output_type": "stream",
     "text": [
      "Epoch 15/20 [Train]: 100%|██████████| 20/20 [00:14<00:00,  1.41it/s]\n"
     ]
    },
    {
     "name": "stdout",
     "output_type": "stream",
     "text": [
      "Batch 20/20: Loss: 2.6301 | Acc: 100.00%\n"
     ]
    },
    {
     "name": "stderr",
     "output_type": "stream",
     "text": [
      "Epoch 15/20 [Val]: 100%|██████████| 5/5 [00:01<00:00,  3.03it/s]\n"
     ]
    },
    {
     "name": "stdout",
     "output_type": "stream",
     "text": [
      "Epoch 15/20: Train Loss: 2.6292 | Train Acc: 100.00% | Val Loss: 2.9703 | Val Acc: 55.00%\n"
     ]
    },
    {
     "name": "stderr",
     "output_type": "stream",
     "text": [
      "Epoch 16/20 [Train]:  50%|█████     | 10/20 [00:08<00:08,  1.24it/s]"
     ]
    },
    {
     "name": "stdout",
     "output_type": "stream",
     "text": [
      "Batch 10/20: Loss: 2.6340 | Acc: 100.00%\n"
     ]
    },
    {
     "name": "stderr",
     "output_type": "stream",
     "text": [
      "Epoch 16/20 [Train]: 100%|██████████| 20/20 [00:15<00:00,  1.28it/s]\n"
     ]
    },
    {
     "name": "stdout",
     "output_type": "stream",
     "text": [
      "Batch 20/20: Loss: 2.6144 | Acc: 100.00%\n"
     ]
    },
    {
     "name": "stderr",
     "output_type": "stream",
     "text": [
      "Epoch 16/20 [Val]: 100%|██████████| 5/5 [00:01<00:00,  4.45it/s]\n"
     ]
    },
    {
     "name": "stdout",
     "output_type": "stream",
     "text": [
      "Epoch 16/20: Train Loss: 2.6260 | Train Acc: 100.00% | Val Loss: 2.9694 | Val Acc: 55.00%\n"
     ]
    },
    {
     "name": "stderr",
     "output_type": "stream",
     "text": [
      "Epoch 17/20 [Train]:  50%|█████     | 10/20 [00:07<00:07,  1.34it/s]"
     ]
    },
    {
     "name": "stdout",
     "output_type": "stream",
     "text": [
      "Batch 10/20: Loss: 2.6383 | Acc: 100.00%\n"
     ]
    },
    {
     "name": "stderr",
     "output_type": "stream",
     "text": [
      "Epoch 17/20 [Train]: 100%|██████████| 20/20 [00:15<00:00,  1.33it/s]\n"
     ]
    },
    {
     "name": "stdout",
     "output_type": "stream",
     "text": [
      "Batch 20/20: Loss: 2.6109 | Acc: 100.00%\n"
     ]
    },
    {
     "name": "stderr",
     "output_type": "stream",
     "text": [
      "Epoch 17/20 [Val]: 100%|██████████| 5/5 [00:01<00:00,  4.48it/s]\n"
     ]
    },
    {
     "name": "stdout",
     "output_type": "stream",
     "text": [
      "Epoch 17/20: Train Loss: 2.6220 | Train Acc: 100.00% | Val Loss: 2.9631 | Val Acc: 55.00%\n"
     ]
    },
    {
     "name": "stderr",
     "output_type": "stream",
     "text": [
      "Epoch 18/20 [Train]:  50%|█████     | 10/20 [00:07<00:07,  1.42it/s]"
     ]
    },
    {
     "name": "stdout",
     "output_type": "stream",
     "text": [
      "Batch 10/20: Loss: 2.6308 | Acc: 100.00%\n"
     ]
    },
    {
     "name": "stderr",
     "output_type": "stream",
     "text": [
      "Epoch 18/20 [Train]: 100%|██████████| 20/20 [00:14<00:00,  1.36it/s]\n"
     ]
    },
    {
     "name": "stdout",
     "output_type": "stream",
     "text": [
      "Batch 20/20: Loss: 2.6160 | Acc: 100.00%\n"
     ]
    },
    {
     "name": "stderr",
     "output_type": "stream",
     "text": [
      "Epoch 18/20 [Val]: 100%|██████████| 5/5 [00:01<00:00,  4.00it/s]\n"
     ]
    },
    {
     "name": "stdout",
     "output_type": "stream",
     "text": [
      "Epoch 18/20: Train Loss: 2.6179 | Train Acc: 100.00% | Val Loss: 2.9584 | Val Acc: 55.00%\n"
     ]
    },
    {
     "name": "stderr",
     "output_type": "stream",
     "text": [
      "Epoch 19/20 [Train]:  50%|█████     | 10/20 [00:06<00:07,  1.43it/s]"
     ]
    },
    {
     "name": "stdout",
     "output_type": "stream",
     "text": [
      "Batch 10/20: Loss: 2.6096 | Acc: 100.00%\n"
     ]
    },
    {
     "name": "stderr",
     "output_type": "stream",
     "text": [
      "Epoch 19/20 [Train]: 100%|██████████| 20/20 [00:13<00:00,  1.47it/s]\n"
     ]
    },
    {
     "name": "stdout",
     "output_type": "stream",
     "text": [
      "Batch 20/20: Loss: 2.6114 | Acc: 100.00%\n"
     ]
    },
    {
     "name": "stderr",
     "output_type": "stream",
     "text": [
      "Epoch 19/20 [Val]: 100%|██████████| 5/5 [00:01<00:00,  3.98it/s]\n"
     ]
    },
    {
     "name": "stdout",
     "output_type": "stream",
     "text": [
      "Epoch 19/20: Train Loss: 2.6168 | Train Acc: 100.00% | Val Loss: 2.9577 | Val Acc: 55.00%\n"
     ]
    },
    {
     "name": "stderr",
     "output_type": "stream",
     "text": [
      "Epoch 20/20 [Train]:  50%|█████     | 10/20 [00:06<00:06,  1.55it/s]"
     ]
    },
    {
     "name": "stdout",
     "output_type": "stream",
     "text": [
      "Batch 10/20: Loss: 2.6353 | Acc: 100.00%\n"
     ]
    },
    {
     "name": "stderr",
     "output_type": "stream",
     "text": [
      "Epoch 20/20 [Train]: 100%|██████████| 20/20 [00:13<00:00,  1.53it/s]\n"
     ]
    },
    {
     "name": "stdout",
     "output_type": "stream",
     "text": [
      "Batch 20/20: Loss: 2.6181 | Acc: 100.00%\n"
     ]
    },
    {
     "name": "stderr",
     "output_type": "stream",
     "text": [
      "Epoch 20/20 [Val]: 100%|██████████| 5/5 [00:01<00:00,  4.20it/s]"
     ]
    },
    {
     "name": "stdout",
     "output_type": "stream",
     "text": [
      "Epoch 20/20: Train Loss: 2.6104 | Train Acc: 100.00% | Val Loss: 2.9508 | Val Acc: 55.00%\n",
      "Fine-tuning complete! Best validation accuracy: 55.00%\n"
     ]
    },
    {
     "name": "stderr",
     "output_type": "stream",
     "text": [
      "\n"
     ]
    },
    {
     "data": {
      "text/plain": [
       "55.0"
      ]
     },
     "execution_count": 16,
     "metadata": {},
     "output_type": "execute_result"
    }
   ],
   "source": [
    "# finetune CLIP\n",
    "finetune_CLIP(\n",
    "    mode=\"both\",\n",
    "    text_path=\"Demo_data/D1_1.csv\",\n",
    "    text_column=[\"headline\", \"abstract\"],\n",
    "    img_dir=\"Demo_data/D1_imgs_1\",\n",
    "    true_label=\"section_numeric\",\n",
    "    model_name=\"Demo_finetuned_CLIP/D1c_CLIP_model_finetuned.pth\",\n",
    "    num_epochs=20,\n",
    "    batch_size=8,\n",
    "    learning_rate=1e-5,\n",
    ")\n"
   ]
  },
  {
   "cell_type": "code",
   "execution_count": 17,
   "id": "excess-ceremony",
   "metadata": {},
   "outputs": [
    {
     "name": "stdout",
     "output_type": "stream",
     "text": [
      "200 pieces of data loaded\n"
     ]
    },
    {
     "name": "stderr",
     "output_type": "stream",
     "text": [
      "predicting: 100%|██████████| 25/25 [00:07<00:00,  3.17it/s]"
     ]
    },
    {
     "name": "stdout",
     "output_type": "stream",
     "text": [
      "Labeling completed!\n"
     ]
    },
    {
     "name": "stderr",
     "output_type": "stream",
     "text": [
      "\n"
     ]
    }
   ],
   "source": [
    "# Classify with a fine‑tuned model\n",
    "D1c_CLIP_finetuned = classification_CLIP_finetuned(\n",
    "    mode=\"both\",\n",
    "    text_path=\"Demo_data/D1_2.csv\",\n",
    "    text_column=[\"headline\", \"abstract\"],\n",
    "    img_dir=\"Demo_data/D1_imgs_2\",\n",
    "    model_name=\"Demo_finetuned_CLIP/D1c_CLIP_model_finetuned.pth\",\n",
    "    predict_column=\"D1c_CLIP_finetuned\",\n",
    "    \n",
    ")\n",
    "D1c_CLIP_finetuned.to_csv(\"Demo_result/D1c_CLIP_finetuned.csv\", index=False)"
   ]
  },
  {
   "cell_type": "code",
   "execution_count": 18,
   "id": "c42f0583-919d-4064-91a0-bdaa08109746",
   "metadata": {},
   "outputs": [
    {
     "data": {
      "text/html": [
       "<div>\n",
       "<style scoped>\n",
       "    .dataframe tbody tr th:only-of-type {\n",
       "        vertical-align: middle;\n",
       "    }\n",
       "\n",
       "    .dataframe tbody tr th {\n",
       "        vertical-align: top;\n",
       "    }\n",
       "\n",
       "    .dataframe thead th {\n",
       "        text-align: right;\n",
       "    }\n",
       "</style>\n",
       "<table border=\"1\" class=\"dataframe\">\n",
       "  <thead>\n",
       "    <tr style=\"text-align: right;\">\n",
       "      <th></th>\n",
       "      <th>section</th>\n",
       "      <th>headline</th>\n",
       "      <th>article_url</th>\n",
       "      <th>article</th>\n",
       "      <th>abstract</th>\n",
       "      <th>article_id</th>\n",
       "      <th>image</th>\n",
       "      <th>caption</th>\n",
       "      <th>image_id</th>\n",
       "      <th>image_path</th>\n",
       "      <th>section_numeric</th>\n",
       "      <th>D1c_CLIP_finetuned</th>\n",
       "    </tr>\n",
       "  </thead>\n",
       "  <tbody>\n",
       "    <tr>\n",
       "      <th>0</th>\n",
       "      <td>Technology</td>\n",
       "      <td>The Sun Sets. The Wind Dies. But Energy Data I...</td>\n",
       "      <td>https://www.nytimes.com/2018/09/26/technology/...</td>\n",
       "      <td>How do New York Times journalists use technolo...</td>\n",
       "      <td>Alternative power sources have upended the ele...</td>\n",
       "      <td>5631bfd7-67ff-5fa3-8efd-37d65f3e234e</td>\n",
       "      <td>https://static01.nyt.com/images/2018/09/27/bus...</td>\n",
       "      <td>Ivan Penn, who reports on alternative energy, ...</td>\n",
       "      <td>5631bfd7-67ff-5fa3-8efd-37d65f3e234e</td>\n",
       "      <td>Demo_data/D1_img2/15631bfd7-67ff-5fa3-8efd-37d...</td>\n",
       "      <td>20</td>\n",
       "      <td>14</td>\n",
       "    </tr>\n",
       "    <tr>\n",
       "      <th>1</th>\n",
       "      <td>Automobiles</td>\n",
       "      <td>Monday Motorsports: Ed Carpenter Wins Another ...</td>\n",
       "      <td>https://www.nytimes.com/2014/05/20/automobiles...</td>\n",
       "      <td>Ed Carpenter hasn't run an IndyCar race since ...</td>\n",
       "      <td>Carpenter collected a $100,000 prize for his s...</td>\n",
       "      <td>c55a5863-a87d-5470-8210-055e307b8956</td>\n",
       "      <td>https://static01.nyt.com/images/2014/05/20/aut...</td>\n",
       "      <td>Ed Carpenter won pole position Sunday for the ...</td>\n",
       "      <td>c55a5863-a87d-5470-8210-055e307b8956</td>\n",
       "      <td>Demo_data/D1_img2/1c55a5863-a87d-5470-8210-055...</td>\n",
       "      <td>23</td>\n",
       "      <td>23</td>\n",
       "    </tr>\n",
       "    <tr>\n",
       "      <th>2</th>\n",
       "      <td>Real Estate</td>\n",
       "      <td>Recent Commercial Real Estate Transactions</td>\n",
       "      <td>https://www.nytimes.com/2019/01/15/realestate/...</td>\n",
       "      <td>497 Atlantic Avenue (between Nevins Street and...</td>\n",
       "      <td>Recent commercial real estate transactions in ...</td>\n",
       "      <td>f3f0dc8e-3241-5e5e-a0d9-b9a3bfc7862f</td>\n",
       "      <td>https://static01.nyt.com/images/2019/01/16/rea...</td>\n",
       "      <td>A four-story walk-up is on the market for $2.5...</td>\n",
       "      <td>f3f0dc8e-3241-5e5e-a0d9-b9a3bfc7862f</td>\n",
       "      <td>Demo_data/D1_img2/1f3f0dc8e-3241-5e5e-a0d9-b9a...</td>\n",
       "      <td>7</td>\n",
       "      <td>7</td>\n",
       "    </tr>\n",
       "    <tr>\n",
       "      <th>3</th>\n",
       "      <td>Television</td>\n",
       "      <td>The Best Movies and TV Shows Coming to Netflix...</td>\n",
       "      <td>https://www.nytimes.com/2019/12/01/arts/televi...</td>\n",
       "      <td>Watching is The New York Times's TV and film r...</td>\n",
       "      <td>Every month, subscription streaming services a...</td>\n",
       "      <td>f0ae30f1-09b9-5334-a32c-04cf793a2aef</td>\n",
       "      <td>https://static01.nyt.com/images/2019/12/01/art...</td>\n",
       "      <td>Clockwise from top left: Scenes from \"Moonligh...</td>\n",
       "      <td>f0ae30f1-09b9-5334-a32c-04cf793a2aef</td>\n",
       "      <td>Demo_data/D1_img2/1f0ae30f1-09b9-5334-a32c-04c...</td>\n",
       "      <td>3</td>\n",
       "      <td>3</td>\n",
       "    </tr>\n",
       "    <tr>\n",
       "      <th>4</th>\n",
       "      <td>Theater</td>\n",
       "      <td>Review: In 'Leopoldstadt,' Tom Stoppard Reckon...</td>\n",
       "      <td>https://www.nytimes.com/2020/02/12/theater/leo...</td>\n",
       "      <td>LONDON -- Do you remember? Don't you remember?...</td>\n",
       "      <td>In what he says will probably be his last work...</td>\n",
       "      <td>da8070be-edc1-5d6f-a78c-3962249598cc</td>\n",
       "      <td>https://static01.nyt.com/images/2020/02/12/art...</td>\n",
       "      <td>Adrian Scarborough, left, and Luke Thallon in ...</td>\n",
       "      <td>da8070be-edc1-5d6f-a78c-3962249598cc</td>\n",
       "      <td>Demo_data/D1_img2/1da8070be-edc1-5d6f-a78c-396...</td>\n",
       "      <td>10</td>\n",
       "      <td>10</td>\n",
       "    </tr>\n",
       "    <tr>\n",
       "      <th>...</th>\n",
       "      <td>...</td>\n",
       "      <td>...</td>\n",
       "      <td>...</td>\n",
       "      <td>...</td>\n",
       "      <td>...</td>\n",
       "      <td>...</td>\n",
       "      <td>...</td>\n",
       "      <td>...</td>\n",
       "      <td>...</td>\n",
       "      <td>...</td>\n",
       "      <td>...</td>\n",
       "      <td>...</td>\n",
       "    </tr>\n",
       "    <tr>\n",
       "      <th>195</th>\n",
       "      <td>Opinion</td>\n",
       "      <td>The Postal Service Is the Most American Thing ...</td>\n",
       "      <td>https://www.nytimes.com/2020/05/15/opinion/pos...</td>\n",
       "      <td>It would be difficult to think of a time when ...</td>\n",
       "      <td>Trump calls it 'a joke.' Washington and Lincol...</td>\n",
       "      <td>30bc3f44-f79c-5b24-9c12-e4c9afc870b1</td>\n",
       "      <td>https://static01.nyt.com/images/2020/05/15/opi...</td>\n",
       "      <td>Delivering the mail in Manhattan. Regular deli...</td>\n",
       "      <td>30bc3f44-f79c-5b24-9c12-e4c9afc870b1</td>\n",
       "      <td>Demo_data/D1_img2/130bc3f44-f79c-5b24-9c12-e4c...</td>\n",
       "      <td>11</td>\n",
       "      <td>11</td>\n",
       "    </tr>\n",
       "    <tr>\n",
       "      <th>196</th>\n",
       "      <td>Real Estate</td>\n",
       "      <td>Priced Out of a Childhood Home</td>\n",
       "      <td>https://www.nytimes.com/2016/05/15/realestate/...</td>\n",
       "      <td>When Carolyn Burke landed a teaching job nearl...</td>\n",
       "      <td>When a New York neighborhood becomes gentrifie...</td>\n",
       "      <td>17fe5dcd-289d-542d-beb2-2578f44576dc</td>\n",
       "      <td>https://static01.nyt.com/images/2016/05/15/rea...</td>\n",
       "      <td>Carolyn Burke, a teacher, in front of her old ...</td>\n",
       "      <td>17fe5dcd-289d-542d-beb2-2578f44576dc</td>\n",
       "      <td>Demo_data/D1_img2/117fe5dcd-289d-542d-beb2-257...</td>\n",
       "      <td>7</td>\n",
       "      <td>14</td>\n",
       "    </tr>\n",
       "    <tr>\n",
       "      <th>197</th>\n",
       "      <td>Technology</td>\n",
       "      <td>Airbnb, a 'Sharing Economy' Pioneer, Files to ...</td>\n",
       "      <td>https://www.nytimes.com/2020/08/19/technology/...</td>\n",
       "      <td>The Airbnb headquarters in San Francisco. Its ...</td>\n",
       "      <td>The home rental company, which was privately v...</td>\n",
       "      <td>7de22813-722c-5d83-8248-269e3fac0cad</td>\n",
       "      <td>https://static01.nyt.com/images/2020/08/18/bus...</td>\n",
       "      <td>Airbnb headquarters in San Francisco.  public ...</td>\n",
       "      <td>7de22813-722c-5d83-8248-269e3fac0cad</td>\n",
       "      <td>Demo_data/D1_img2/17de22813-722c-5d83-8248-269...</td>\n",
       "      <td>20</td>\n",
       "      <td>1</td>\n",
       "    </tr>\n",
       "    <tr>\n",
       "      <th>198</th>\n",
       "      <td>Health</td>\n",
       "      <td>Stay 6 Feet Apart, We're Told. But How Far Can...</td>\n",
       "      <td>https://www.nytimes.com/2020/04/14/health/coro...</td>\n",
       "      <td>The rule of thumb, or rather feet, has been to...</td>\n",
       "      <td>Most of the big droplets travel a mere six fee...</td>\n",
       "      <td>6fc12abe-5d32-5c47-9372-cdf3c6de0ad5</td>\n",
       "      <td>https://static01.nyt.com/images/2020/04/19/sci...</td>\n",
       "      <td>A sign on the Coney Island boardwalk in Brookl...</td>\n",
       "      <td>6fc12abe-5d32-5c47-9372-cdf3c6de0ad5</td>\n",
       "      <td>Demo_data/D1_img2/16fc12abe-5d32-5c47-9372-cdf...</td>\n",
       "      <td>1</td>\n",
       "      <td>9</td>\n",
       "    </tr>\n",
       "    <tr>\n",
       "      <th>199</th>\n",
       "      <td>Music</td>\n",
       "      <td>The Country-Rap Song Taking Over Nashville? It...</td>\n",
       "      <td>https://www.nytimes.com/2019/07/11/arts/music/...</td>\n",
       "      <td>The second most-viewed version of Blanco Brown...</td>\n",
       "      <td>Billboard removed Lil Nas X's \"country trap\" r...</td>\n",
       "      <td>8718c7fb-452d-5212-982a-34b11c567e3b</td>\n",
       "      <td>https://static01.nyt.com/images/2019/07/11/art...</td>\n",
       "      <td>Blanco Brown, a 34-year-old singer and songwri...</td>\n",
       "      <td>8718c7fb-452d-5212-982a-34b11c567e3b</td>\n",
       "      <td>Demo_data/D1_img2/18718c7fb-452d-5212-982a-34b...</td>\n",
       "      <td>12</td>\n",
       "      <td>12</td>\n",
       "    </tr>\n",
       "  </tbody>\n",
       "</table>\n",
       "<p>200 rows × 12 columns</p>\n",
       "</div>"
      ],
      "text/plain": [
       "         section                                           headline  \\\n",
       "0     Technology  The Sun Sets. The Wind Dies. But Energy Data I...   \n",
       "1    Automobiles  Monday Motorsports: Ed Carpenter Wins Another ...   \n",
       "2    Real Estate         Recent Commercial Real Estate Transactions   \n",
       "3     Television  The Best Movies and TV Shows Coming to Netflix...   \n",
       "4        Theater  Review: In 'Leopoldstadt,' Tom Stoppard Reckon...   \n",
       "..           ...                                                ...   \n",
       "195      Opinion  The Postal Service Is the Most American Thing ...   \n",
       "196  Real Estate                     Priced Out of a Childhood Home   \n",
       "197   Technology  Airbnb, a 'Sharing Economy' Pioneer, Files to ...   \n",
       "198       Health  Stay 6 Feet Apart, We're Told. But How Far Can...   \n",
       "199        Music  The Country-Rap Song Taking Over Nashville? It...   \n",
       "\n",
       "                                           article_url  \\\n",
       "0    https://www.nytimes.com/2018/09/26/technology/...   \n",
       "1    https://www.nytimes.com/2014/05/20/automobiles...   \n",
       "2    https://www.nytimes.com/2019/01/15/realestate/...   \n",
       "3    https://www.nytimes.com/2019/12/01/arts/televi...   \n",
       "4    https://www.nytimes.com/2020/02/12/theater/leo...   \n",
       "..                                                 ...   \n",
       "195  https://www.nytimes.com/2020/05/15/opinion/pos...   \n",
       "196  https://www.nytimes.com/2016/05/15/realestate/...   \n",
       "197  https://www.nytimes.com/2020/08/19/technology/...   \n",
       "198  https://www.nytimes.com/2020/04/14/health/coro...   \n",
       "199  https://www.nytimes.com/2019/07/11/arts/music/...   \n",
       "\n",
       "                                               article  \\\n",
       "0    How do New York Times journalists use technolo...   \n",
       "1    Ed Carpenter hasn't run an IndyCar race since ...   \n",
       "2    497 Atlantic Avenue (between Nevins Street and...   \n",
       "3    Watching is The New York Times's TV and film r...   \n",
       "4    LONDON -- Do you remember? Don't you remember?...   \n",
       "..                                                 ...   \n",
       "195  It would be difficult to think of a time when ...   \n",
       "196  When Carolyn Burke landed a teaching job nearl...   \n",
       "197  The Airbnb headquarters in San Francisco. Its ...   \n",
       "198  The rule of thumb, or rather feet, has been to...   \n",
       "199  The second most-viewed version of Blanco Brown...   \n",
       "\n",
       "                                              abstract  \\\n",
       "0    Alternative power sources have upended the ele...   \n",
       "1    Carpenter collected a $100,000 prize for his s...   \n",
       "2    Recent commercial real estate transactions in ...   \n",
       "3    Every month, subscription streaming services a...   \n",
       "4    In what he says will probably be his last work...   \n",
       "..                                                 ...   \n",
       "195  Trump calls it 'a joke.' Washington and Lincol...   \n",
       "196  When a New York neighborhood becomes gentrifie...   \n",
       "197  The home rental company, which was privately v...   \n",
       "198  Most of the big droplets travel a mere six fee...   \n",
       "199  Billboard removed Lil Nas X's \"country trap\" r...   \n",
       "\n",
       "                               article_id  \\\n",
       "0    5631bfd7-67ff-5fa3-8efd-37d65f3e234e   \n",
       "1    c55a5863-a87d-5470-8210-055e307b8956   \n",
       "2    f3f0dc8e-3241-5e5e-a0d9-b9a3bfc7862f   \n",
       "3    f0ae30f1-09b9-5334-a32c-04cf793a2aef   \n",
       "4    da8070be-edc1-5d6f-a78c-3962249598cc   \n",
       "..                                    ...   \n",
       "195  30bc3f44-f79c-5b24-9c12-e4c9afc870b1   \n",
       "196  17fe5dcd-289d-542d-beb2-2578f44576dc   \n",
       "197  7de22813-722c-5d83-8248-269e3fac0cad   \n",
       "198  6fc12abe-5d32-5c47-9372-cdf3c6de0ad5   \n",
       "199  8718c7fb-452d-5212-982a-34b11c567e3b   \n",
       "\n",
       "                                                 image  \\\n",
       "0    https://static01.nyt.com/images/2018/09/27/bus...   \n",
       "1    https://static01.nyt.com/images/2014/05/20/aut...   \n",
       "2    https://static01.nyt.com/images/2019/01/16/rea...   \n",
       "3    https://static01.nyt.com/images/2019/12/01/art...   \n",
       "4    https://static01.nyt.com/images/2020/02/12/art...   \n",
       "..                                                 ...   \n",
       "195  https://static01.nyt.com/images/2020/05/15/opi...   \n",
       "196  https://static01.nyt.com/images/2016/05/15/rea...   \n",
       "197  https://static01.nyt.com/images/2020/08/18/bus...   \n",
       "198  https://static01.nyt.com/images/2020/04/19/sci...   \n",
       "199  https://static01.nyt.com/images/2019/07/11/art...   \n",
       "\n",
       "                                               caption  \\\n",
       "0    Ivan Penn, who reports on alternative energy, ...   \n",
       "1    Ed Carpenter won pole position Sunday for the ...   \n",
       "2    A four-story walk-up is on the market for $2.5...   \n",
       "3    Clockwise from top left: Scenes from \"Moonligh...   \n",
       "4    Adrian Scarborough, left, and Luke Thallon in ...   \n",
       "..                                                 ...   \n",
       "195  Delivering the mail in Manhattan. Regular deli...   \n",
       "196  Carolyn Burke, a teacher, in front of her old ...   \n",
       "197  Airbnb headquarters in San Francisco.  public ...   \n",
       "198  A sign on the Coney Island boardwalk in Brookl...   \n",
       "199  Blanco Brown, a 34-year-old singer and songwri...   \n",
       "\n",
       "                                 image_id  \\\n",
       "0    5631bfd7-67ff-5fa3-8efd-37d65f3e234e   \n",
       "1    c55a5863-a87d-5470-8210-055e307b8956   \n",
       "2    f3f0dc8e-3241-5e5e-a0d9-b9a3bfc7862f   \n",
       "3    f0ae30f1-09b9-5334-a32c-04cf793a2aef   \n",
       "4    da8070be-edc1-5d6f-a78c-3962249598cc   \n",
       "..                                    ...   \n",
       "195  30bc3f44-f79c-5b24-9c12-e4c9afc870b1   \n",
       "196  17fe5dcd-289d-542d-beb2-2578f44576dc   \n",
       "197  7de22813-722c-5d83-8248-269e3fac0cad   \n",
       "198  6fc12abe-5d32-5c47-9372-cdf3c6de0ad5   \n",
       "199  8718c7fb-452d-5212-982a-34b11c567e3b   \n",
       "\n",
       "                                            image_path  section_numeric  \\\n",
       "0    Demo_data/D1_img2/15631bfd7-67ff-5fa3-8efd-37d...               20   \n",
       "1    Demo_data/D1_img2/1c55a5863-a87d-5470-8210-055...               23   \n",
       "2    Demo_data/D1_img2/1f3f0dc8e-3241-5e5e-a0d9-b9a...                7   \n",
       "3    Demo_data/D1_img2/1f0ae30f1-09b9-5334-a32c-04c...                3   \n",
       "4    Demo_data/D1_img2/1da8070be-edc1-5d6f-a78c-396...               10   \n",
       "..                                                 ...              ...   \n",
       "195  Demo_data/D1_img2/130bc3f44-f79c-5b24-9c12-e4c...               11   \n",
       "196  Demo_data/D1_img2/117fe5dcd-289d-542d-beb2-257...                7   \n",
       "197  Demo_data/D1_img2/17de22813-722c-5d83-8248-269...               20   \n",
       "198  Demo_data/D1_img2/16fc12abe-5d32-5c47-9372-cdf...                1   \n",
       "199  Demo_data/D1_img2/18718c7fb-452d-5212-982a-34b...               12   \n",
       "\n",
       "     D1c_CLIP_finetuned  \n",
       "0                    14  \n",
       "1                    23  \n",
       "2                     7  \n",
       "3                     3  \n",
       "4                    10  \n",
       "..                  ...  \n",
       "195                  11  \n",
       "196                  14  \n",
       "197                   1  \n",
       "198                   9  \n",
       "199                  12  \n",
       "\n",
       "[200 rows x 12 columns]"
      ]
     },
     "execution_count": 18,
     "metadata": {},
     "output_type": "execute_result"
    }
   ],
   "source": [
    "D1c_CLIP_finetuned"
   ]
  },
  {
   "cell_type": "code",
   "execution_count": 19,
   "id": "ultimate-reunion",
   "metadata": {},
   "outputs": [
    {
     "name": "stdout",
     "output_type": "stream",
     "text": [
      "\n",
      "== Verification of 'D1c_CLIP_finetuned' vs. 'section_numeric' ==\n",
      "Accuracy:   60.50%\n",
      "Macro F1:   56.28%\n",
      "Micro  F1:  60.50%\n",
      "\n",
      "Full classification report:\n",
      "              precision    recall  f1-score   support\n",
      "\n",
      "           1       0.55      0.79      0.65        14\n",
      "           2       1.00      0.29      0.44         7\n",
      "           3       0.93      0.76      0.84        17\n",
      "           4       0.33      0.60      0.43         5\n",
      "           5       1.00      0.75      0.86         4\n",
      "           6       1.00      1.00      1.00         8\n",
      "           7       0.50      0.07      0.12        15\n",
      "           8       0.50      0.29      0.36         7\n",
      "           9       0.42      0.83      0.56         6\n",
      "          10       0.80      0.92      0.86        13\n",
      "          11       0.47      0.70      0.56        10\n",
      "          12       0.88      0.64      0.74        11\n",
      "          13       0.85      0.92      0.88        12\n",
      "          14       0.27      1.00      0.42        11\n",
      "          15       0.00      0.00      0.00         9\n",
      "          16       0.67      0.18      0.29        11\n",
      "          17       0.83      0.91      0.87        11\n",
      "          19       0.50      0.33      0.40         6\n",
      "          20       0.83      0.45      0.59        11\n",
      "          21       0.00      0.00      0.00         5\n",
      "          22       1.00      0.67      0.80         3\n",
      "          23       0.57      1.00      0.73         4\n",
      "\n",
      "    accuracy                           0.60       200\n",
      "   macro avg       0.63      0.60      0.56       200\n",
      "weighted avg       0.65      0.60      0.57       200\n",
      "\n",
      "\n",
      "Confusion matrix:\n",
      "[[11  0  0  0  0  0  0  0  1  0  0  0  0  0  0  0  1  0  1  0  0  0]\n",
      " [ 3  2  0  0  0  0  0  0  1  0  0  0  0  1  0  0  0  0  0  0  0  0]\n",
      " [ 0  0 13  0  0  0  0  0  0  0  1  0  0  3  0  0  0  0  0  0  0  0]\n",
      " [ 0  0  0  3  0  0  0  0  0  0  0  0  0  2  0  0  0  0  0  0  0  0]\n",
      " [ 0  0  1  0  3  0  0  0  0  0  0  0  0  0  0  0  0  0  0  0  0  0]\n",
      " [ 0  0  0  0  0  8  0  0  0  0  0  0  0  0  0  0  0  0  0  0  0  0]\n",
      " [ 0  0  0  5  0  0  1  0  0  0  1  0  0  6  0  0  1  0  0  0  0  1]\n",
      " [ 2  0  0  0  0  0  0  2  2  0  1  0  0  0  0  0  0  0  0  0  0  0]\n",
      " [ 0  0  0  1  0  0  0  0  5  0  0  0  0  0  0  0  0  0  0  0  0  0]\n",
      " [ 0  0  0  0  0  0  0  0  0 12  0  0  1  0  0  0  0  0  0  0  0  0]\n",
      " [ 1  0  0  0  0  0  0  0  0  0  7  0  1  0  0  0  0  1  0  0  0  0]\n",
      " [ 0  0  0  0  0  0  0  0  0  3  0  7  0  1  0  0  0  0  0  0  0  0]\n",
      " [ 0  0  0  0  0  0  0  0  0  0  0  0 11  1  0  0  0  0  0  0  0  0]\n",
      " [ 0  0  0  0  0  0  0  0  0  0  0  0  0 11  0  0  0  0  0  0  0  0]\n",
      " [ 0  0  0  0  0  0  0  0  0  0  3  1  0  3  0  0  0  1  0  0  0  1]\n",
      " [ 0  0  0  0  0  0  0  0  2  0  1  0  0  6  0  2  0  0  0  0  0  0]\n",
      " [ 0  0  0  0  0  0  0  0  0  0  0  0  0  1  0  0 10  0  0  0  0  0]\n",
      " [ 0  0  0  0  0  0  0  0  0  0  0  0  0  3  0  1  0  2  0  0  0  0]\n",
      " [ 2  0  0  0  0  0  1  1  1  0  0  0  0  1  0  0  0  0  5  0  0  0]\n",
      " [ 1  0  0  0  0  0  0  1  0  0  1  0  0  1  0  0  0  0  0  0  0  1]\n",
      " [ 0  0  0  0  0  0  0  0  0  0  0  0  0  1  0  0  0  0  0  0  2  0]\n",
      " [ 0  0  0  0  0  0  0  0  0  0  0  0  0  0  0  0  0  0  0  0  0  4]]\n",
      "\n",
      ">> Overall accuracy: 60.50%\n"
     ]
    }
   ],
   "source": [
    "## Check the accuracy: CLIP after finetune\n",
    "auto_verification(\n",
    "    D1c_CLIP_finetuned,\n",
    "    predicted_cols=\"D1c_CLIP_finetuned\",\n",
    "    true_cols=\"section_numeric\",\n",
    "    category=category_D1_CLIP\n",
    ")"
   ]
  }
 ],
 "metadata": {
  "colab": {
   "provenance": []
  },
  "kernelspec": {
   "display_name": "Python 3 (ipykernel)",
   "language": "python",
   "name": "python3"
  },
  "language_info": {
   "codemirror_mode": {
    "name": "ipython",
    "version": 3
   },
   "file_extension": ".py",
   "mimetype": "text/x-python",
   "name": "python",
   "nbconvert_exporter": "python",
   "pygments_lexer": "ipython3",
   "version": "3.11.8"
  }
 },
 "nbformat": 4,
 "nbformat_minor": 5
}
